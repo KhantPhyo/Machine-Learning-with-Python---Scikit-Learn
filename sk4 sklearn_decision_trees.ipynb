{
  "nbformat": 4,
  "nbformat_minor": 0,
  "metadata": {
    "colab": {
      "provenance": [],
      "include_colab_link": true
    },
    "kernelspec": {
      "name": "python3",
      "display_name": "Python 3"
    },
    "language_info": {
      "name": "python"
    }
  },
  "cells": [
    {
      "cell_type": "markdown",
      "metadata": {
        "id": "view-in-github",
        "colab_type": "text"
      },
      "source": [
        "<a href=\"https://colab.research.google.com/github/KhantPhyo/Machine-Learning-with-Python---Scikit-Learn/blob/main/sk4%20sklearn_decision_trees.ipynb\" target=\"_parent\"><img src=\"https://colab.research.google.com/assets/colab-badge.svg\" alt=\"Open In Colab\"/></a>"
      ]
    },
    {
      "cell_type": "code",
      "execution_count": null,
      "metadata": {
        "id": "V07KP7a2f46r"
      },
      "outputs": [],
      "source": [
        "#https://www.tutorialspoint.com/scikit_learn/scikit_learn_decision_trees.htm\n",
        "import numpy as np\n",
        "import matplotlib.pyplot as plt\n",
        "\n",
        "from sklearn.tree import DecisionTreeClassifier, DecisionTreeRegressor\n",
        "\n",
        "from sklearn.datasets import make_regression, make_classification  #for creating dataset\n",
        "\n",
        "from sklearn.model_selection import train_test_split\n",
        "from sklearn import metrics"
      ]
    },
    {
      "cell_type": "markdown",
      "source": [
        "The make_classification function in scikit-learn is a convenient tool for generating synthetic datasets for classification tasks. It's useful for testing and prototyping machine learning models.\n",
        "\n",
        "___\n",
        "\n",
        "n_features: This parameter specifies the number of features (or independent variables) in the dataset. In your example, n_features is set to 4, which means that the dataset X will have four features. These features are generated based on various statistical properties to create a synthetic dataset for a classification task.\n",
        "Other commonly used parameters for make_classification include:\n",
        "\n",
        "n_samples: Number of samples (data points) in the dataset.\n",
        "n_classes: Number of classes (unique values in the target variable).\n",
        "n_clusters_per_class: Number of clusters per class.\n",
        "weights: The proportions of samples assigned to each class.\n",
        "random_state: Seed for reproducibility.\n",
        "\n",
        "\n",
        "__\n",
        "\n",
        "X, y = make_classification(\n",
        "    n_samples=1000,\n",
        "    n_features=5,\n",
        "    n_classes=2,\n",
        "    n_clusters_per_class=2,\n",
        "    weights=[0.7, 0.3],\n",
        "    random_state=42\n",
        ")\n",
        "\n",
        "\n",
        "___\n",
        "\n",
        "In this example, we generate a dataset with 1000 samples, 5 features, 2 classes, 2 clusters per class, and a class distribution with 70% in class 0 and 30% in class 1. Adjusting these parameters allows you to create datasets that mimic various characteristics of real-world data."
      ],
      "metadata": {
        "id": "VY5CA-qvNcDF"
      }
    },
    {
      "cell_type": "code",
      "source": [
        "X, y = make_classification(n_features = 4, random_state = 0)\n",
        "X.shape, y.shape"
      ],
      "metadata": {
        "colab": {
          "base_uri": "https://localhost:8080/"
        },
        "id": "fIEQEmTEgXes",
        "outputId": "c3773165-0179-4a21-b051-c1e33ed65e8f"
      },
      "execution_count": null,
      "outputs": [
        {
          "output_type": "execute_result",
          "data": {
            "text/plain": [
              "((100, 4), (100,))"
            ]
          },
          "metadata": {},
          "execution_count": 2
        }
      ]
    },
    {
      "cell_type": "code",
      "source": [
        "X_train, X_test, y_train, y_test = train_test_split(X, y, test_size = 0.3, random_state = 1)\n",
        "X_train.shape, X_test.shape"
      ],
      "metadata": {
        "colab": {
          "base_uri": "https://localhost:8080/"
        },
        "id": "xE7ph_PWglAk",
        "outputId": "3766cd48-5fb3-467b-9242-47c0e84bb8cd"
      },
      "execution_count": null,
      "outputs": [
        {
          "output_type": "execute_result",
          "data": {
            "text/plain": [
              "((70, 4), (30, 4))"
            ]
          },
          "metadata": {},
          "execution_count": 3
        }
      ]
    },
    {
      "cell_type": "markdown",
      "source": [
        "DecisionTreeClassifier is a class in scikit-learn, a popular machine learning library in Python, used for implementing decision tree-based classification algorithms. Decision trees are a type of supervised machine learning model that can be used for both classification and regression tasks.\n",
        "\n",
        "In the context of classification, a decision tree recursively splits the dataset into subsets based on the values of input features. At each node of the tree, a decision is made by evaluating a specific feature, and the data is split accordingly. This process is repeated until a stopping criterion is met, such as reaching a certain depth or having a minimum number of samples in a leaf node.\n"
      ],
      "metadata": {
        "id": "QkISJZ-1OhT0"
      }
    },
    {
      "cell_type": "code",
      "source": [
        "clf = DecisionTreeClassifier()\n",
        "clf.fit(X_train,y_train)\n",
        "y_pred = clf.predict(X_test)\n",
        "acc = metrics.accuracy_score(y_test,y_pred)\n",
        "acc"
      ],
      "metadata": {
        "colab": {
          "base_uri": "https://localhost:8080/"
        },
        "id": "Qgmc3RNPgoJa",
        "outputId": "32e48c8b-274a-4eff-e0fd-3f72562c91e8"
      },
      "execution_count": null,
      "outputs": [
        {
          "output_type": "execute_result",
          "data": {
            "text/plain": [
              "0.8666666666666667"
            ]
          },
          "metadata": {},
          "execution_count": 4
        }
      ]
    },
    {
      "cell_type": "markdown",
      "source": [
        "The metrics.accuracy_score function in scikit-learn is a performance metric used for evaluating the accuracy of a classification model. It measures the ratio of correctly predicted instances to the total number of instances in the dataset. The formula for accuracy is:\n",
        "\n",
        "Accuracy = Number of Correct Predictions / Total Number of Predictions\n",
        "\n",
        "Here's an explanation of the key terms:\n",
        "\n",
        "Number of Correct Predictions: The count of instances where the predicted class matches the actual class.\n",
        "\n",
        "Total Number of Predictions: The total number of instances in the dataset.\n",
        "\n",
        "___\n",
        "\n",
        "accuracy number is good if betwee 0.95 to nearly 1 ( not 1 coz It can be overconfidient )\n",
        "\n"
      ],
      "metadata": {
        "id": "oKTIaApJRJ-u"
      }
    },
    {
      "cell_type": "code",
      "source": [
        "clf.get_depth()"
      ],
      "metadata": {
        "colab": {
          "base_uri": "https://localhost:8080/"
        },
        "id": "BM6xhpP_FWee",
        "outputId": "12e89e2a-56e5-49fc-e040-1f19429f48de"
      },
      "execution_count": null,
      "outputs": [
        {
          "output_type": "execute_result",
          "data": {
            "text/plain": [
              "6"
            ]
          },
          "metadata": {},
          "execution_count": 5
        }
      ]
    },
    {
      "cell_type": "markdown",
      "source": [
        "The get_depth method in scikit-learn's DecisionTreeClassifier returns the depth of the decision tree. The depth of a decision tree is the length of the longest path from the root node to a leaf node. It essentially measures the complexity or the number of levels in the tree.\n",
        "\n",
        "___\n",
        "\n",
        "algorithm (modle) is good if depth number is small."
      ],
      "metadata": {
        "id": "MDYBtB8dSP2A"
      }
    },
    {
      "cell_type": "code",
      "source": [
        "depths = np.arange(1,15)\n",
        "scores = {}\n",
        "scores_list = []\n",
        "for d in depths:\n",
        "  classifier = DecisionTreeClassifier(max_depth = d)\n",
        "  classifier.fit(X_train, y_train)\n",
        "  y_pred = classifier.predict(X_test)\n",
        "  scores[d] = metrics.accuracy_score(y_test,y_pred)\n",
        "  scores_list.append(metrics.accuracy_score(y_test,y_pred))"
      ],
      "metadata": {
        "id": "ergePTmRpTlL"
      },
      "execution_count": null,
      "outputs": []
    },
    {
      "cell_type": "code",
      "source": [
        "scores"
      ],
      "metadata": {
        "colab": {
          "base_uri": "https://localhost:8080/"
        },
        "id": "8eKGXqfhppUC",
        "outputId": "f477fae4-ebd6-456d-d2a6-1821bda1dee3"
      },
      "execution_count": null,
      "outputs": [
        {
          "output_type": "execute_result",
          "data": {
            "text/plain": [
              "{1: 1.0,\n",
              " 2: 1.0,\n",
              " 3: 0.9333333333333333,\n",
              " 4: 0.9333333333333333,\n",
              " 5: 0.9,\n",
              " 6: 0.9,\n",
              " 7: 0.9333333333333333,\n",
              " 8: 0.9333333333333333,\n",
              " 9: 0.9,\n",
              " 10: 0.9,\n",
              " 11: 0.9,\n",
              " 12: 0.9,\n",
              " 13: 0.9333333333333333,\n",
              " 14: 0.9333333333333333}"
            ]
          },
          "metadata": {},
          "execution_count": 7
        }
      ]
    },
    {
      "cell_type": "code",
      "source": [
        "plt.plot(depths,scores_list)\n",
        "plt.xlabel(\"Value of depth\")\n",
        "plt.ylabel(\"Accuracy\")"
      ],
      "metadata": {
        "colab": {
          "base_uri": "https://localhost:8080/",
          "height": 466
        },
        "id": "reFXOq3mpvP-",
        "outputId": "fd19c8a2-2a0f-435a-8968-8c9aac9ba44f"
      },
      "execution_count": null,
      "outputs": [
        {
          "output_type": "execute_result",
          "data": {
            "text/plain": [
              "Text(0, 0.5, 'Accuracy')"
            ]
          },
          "metadata": {},
          "execution_count": 8
        },
        {
          "output_type": "display_data",
          "data": {
            "text/plain": [
              "<Figure size 640x480 with 1 Axes>"
            ],
            "image/png": "[encoded data removed]"
          },
          "metadata": {}
        }
      ]
    },
    {
      "cell_type": "code",
      "source": [
        "X, y = make_regression(n_features = 4, random_state = 0)\n",
        "X.shape, y.shape"
      ],
      "metadata": {
        "colab": {
          "base_uri": "https://localhost:8080/"
        },
        "id": "Z3GwWZ67hB1b",
        "outputId": "f7c8b55e-8d57-462c-de46-366004f5ee24"
      },
      "execution_count": null,
      "outputs": [
        {
          "output_type": "execute_result",
          "data": {
            "text/plain": [
              "((100, 4), (100,))"
            ]
          },
          "metadata": {},
          "execution_count": 9
        }
      ]
    },
    {
      "cell_type": "code",
      "source": [
        "X_train, X_test, y_train, y_test = train_test_split(X, y, test_size = 0.3, random_state = 1)\n",
        "X_train.shape, X_test.shape"
      ],
      "metadata": {
        "colab": {
          "base_uri": "https://localhost:8080/"
        },
        "id": "X2-469GUhJ7b",
        "outputId": "b50ebf9c-d3dc-4cd3-dfd6-8a1a922c72da"
      },
      "execution_count": null,
      "outputs": [
        {
          "output_type": "execute_result",
          "data": {
            "text/plain": [
              "((70, 4), (30, 4))"
            ]
          },
          "metadata": {},
          "execution_count": 10
        }
      ]
    },
    {
      "cell_type": "markdown",
      "source": [
        "DecisionTreeRegressor is another class in scikit-learn, and it is specifically designed for implementing decision tree-based regression algorithms. While DecisionTreeClassifier is used for classification tasks where the goal is to assign a label to each input, DecisionTreeRegressor is used for regression tasks where the goal is to predict a continuous target variable.\n",
        "\n",
        "The main difference lies in the nature of the output:\n",
        "\n",
        "- DecisionTreeClassifier: This is used for classification tasks where the output is a class label. The decision tree aims to predict the class of the input data based on the features.\n",
        "\n",
        "- DecisionTreeRegressor: This is used for regression tasks where the output is a continuous numerical value. The decision tree aims to predict a target variable that is a real number."
      ],
      "metadata": {
        "id": "OMF5VN2FPD4e"
      }
    },
    {
      "cell_type": "code",
      "source": [
        "#The default value for max_depth is set to None, meaning there is no maximum depth, and the tree will continue to grow until it reaches the stopping criteria mentioned earlier.\n",
        "reg = DecisionTreeRegressor()\n",
        "reg.fit(X_train,y_train)\n",
        "y_pred = reg.predict(X_test)\n",
        "mse = metrics.mean_squared_error(y_test,y_pred)\n",
        "mse, reg.get_depth()"
      ],
      "metadata": {
        "colab": {
          "base_uri": "https://localhost:8080/"
        },
        "id": "WrYNURsyhMYa",
        "outputId": "dd15102e-5ecd-475f-a28d-d9b89fbb6ab5"
      },
      "execution_count": null,
      "outputs": [
        {
          "output_type": "execute_result",
          "data": {
            "text/plain": [
              "(4225.799741920269, 10)"
            ]
          },
          "metadata": {},
          "execution_count": 11
        }
      ]
    },
    {
      "cell_type": "markdown",
      "source": [
        "The mean_squared_error function in scikit-learn's metrics module is a measure of the average squared difference between the predicted and actual values in a regression problem. It is commonly used to assess the performance of regression models.\n",
        "\n",
        "The mean_squared_error function calculates the average squared difference between the actual and predicted values. A lower MSE indicates that the model's predictions are closer to the actual values, suggesting better performance."
      ],
      "metadata": {
        "id": "LTD5u9YkT8Ch"
      }
    },
    {
      "cell_type": "code",
      "source": [
        "depths = np.arange(1,15)\n",
        "scores = {}\n",
        "scores_list = []\n",
        "for d in depths:\n",
        "  reg = DecisionTreeRegressor(max_depth = d)\n",
        "  reg.fit(X_train, y_train)\n",
        "  y_pred = reg.predict(X_test)\n",
        "  scores[d] = metrics.mean_squared_error(y_test,y_pred)\n",
        "  scores_list.append(metrics.mean_squared_error(y_test,y_pred))"
      ],
      "metadata": {
        "id": "UxoT3lFChanI"
      },
      "execution_count": null,
      "outputs": []
    },
    {
      "cell_type": "code",
      "source": [
        "scores"
      ],
      "metadata": {
        "colab": {
          "base_uri": "https://localhost:8080/"
        },
        "id": "hSgA1WEeqpoo",
        "outputId": "7a5d446a-e4a2-4563-9cae-657c3c2402ff"
      },
      "execution_count": null,
      "outputs": [
        {
          "output_type": "execute_result",
          "data": {
            "text/plain": [
              "{1: 10993.773811324027,\n",
              " 2: 9930.714300148302,\n",
              " 3: 4372.765028195948,\n",
              " 4: 4342.8825850846,\n",
              " 5: 4606.63763215178,\n",
              " 6: 5064.07128760961,\n",
              " 7: 4454.512991537636,\n",
              " 8: 4524.119914780254,\n",
              " 9: 4645.16930180042,\n",
              " 10: 4586.656586871472,\n",
              " 11: 4186.328744290399,\n",
              " 12: 5398.8841393025705,\n",
              " 13: 5367.895768472664,\n",
              " 14: 4710.8507276266155}"
            ]
          },
          "metadata": {},
          "execution_count": 13
        }
      ]
    },
    {
      "cell_type": "code",
      "source": [
        "plt.plot(depths,scores_list)\n",
        "plt.xlabel(\"Value of depth\")\n",
        "plt.ylabel(\"MSE\")"
      ],
      "metadata": {
        "colab": {
          "base_uri": "https://localhost:8080/",
          "height": 466
        },
        "id": "79VRbx01qq82",
        "outputId": "bc363fad-2073-46ac-d45e-a1aa7620ca00"
      },
      "execution_count": null,
      "outputs": [
        {
          "output_type": "execute_result",
          "data": {
            "text/plain": [
              "Text(0, 0.5, 'MSE')"
            ]
          },
          "metadata": {},
          "execution_count": 14
        },
        {
          "output_type": "display_data",
          "data": {
            "text/plain": [
              "<Figure size 640x480 with 1 Axes>"
            ],
            "image/png": "[encoded data removed]"
          },
          "metadata": {}
        }
      ]
    },
    {
      "cell_type": "markdown",
      "source": [
        "as result, 11 is good."
      ],
      "metadata": {
        "id": "fjIVFitaUECq"
      }
    },
    {
      "cell_type": "code",
      "source": [
        "reg = DecisionTreeRegressor(max_depth = 11)\n",
        "reg.fit(X_train,y_train)\n",
        "y_pred = reg.predict(X_test)\n",
        "mse = metrics.mean_squared_error(y_test,y_pred)\n",
        "mse, reg.get_depth()"
      ],
      "metadata": {
        "id": "XN2VeY_Mq1nC",
        "colab": {
          "base_uri": "https://localhost:8080/"
        },
        "outputId": "4ed88d85-ab79-455b-d07f-68730ad467e4"
      },
      "execution_count": null,
      "outputs": [
        {
          "output_type": "execute_result",
          "data": {
            "text/plain": [
              "(3982.1010381719125, 10)"
            ]
          },
          "metadata": {},
          "execution_count": 16
        }
      ]
    },
    {
      "cell_type": "code",
      "source": [],
      "metadata": {
        "id": "KCa5n5BpulXo"
      },
      "execution_count": null,
      "outputs": []
    },
    {
      "cell_type": "markdown",
      "source": [
        "# DecisionTreeRegressor Example:\n",
        "Dataset:\n",
        "\n",
        "- The Boston Housing dataset contains information about various housing attributes in different neighborhoods of Boston.\n",
        "Task:\n",
        "\n",
        "- Regression: Predicting the median value of owner-occupied homes in thousands of dollars (target variable).\n",
        "DecisionTreeRegressor Usage:\n",
        "\n",
        "- We can use DecisionTreeRegressor to create a model that learns to predict the median house value based on features such as crime rate, number of rooms, etc.\n",
        "Evaluation:\n",
        "\n",
        "- The performance of the model can be assessed using regression metrics like Mean Squared Error (MSE), which measures the average squared difference between predicted and actual values.\n",
        "\n",
        "# DecisionTreeClassifier Example:\n",
        "Now, let's consider a different dataset: the famous Iris dataset.\n",
        "\n",
        "Dataset:\n",
        "\n",
        "- The Iris dataset contains measurements of various features of iris flowers, along with the species of each flower (setosa, versicolor, virginica).\n",
        "Task:\n",
        "\n",
        "- Classification: Predicting the species of an iris flower based on its features.\n",
        "DecisionTreeClassifier Usage:\n",
        "\n",
        "- We can use DecisionTreeClassifier to create a model that classifies iris flowers into different species.\n",
        "Evaluation:\n",
        "\n",
        "- The model's performance can be assessed using classification metrics like accuracy, precision, recall, or F1-score."
      ],
      "metadata": {
        "id": "t8AWQP_2QWgx"
      }
    }
  ]
}