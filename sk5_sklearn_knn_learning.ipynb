{
  "nbformat": 4,
  "nbformat_minor": 0,
  "metadata": {
    "colab": {
      "provenance": [],
      "include_colab_link": true
    },
    "kernelspec": {
      "name": "python3",
      "display_name": "Python 3"
    },
    "language_info": {
      "name": "python"
    }
  },
  "cells": [
    {
      "cell_type": "markdown",
      "metadata": {
        "id": "view-in-github",
        "colab_type": "text"
      },
      "source": [
        "<a href=\"https://colab.research.google.com/github/KhantPhyo/Machine-Learning-with-Python---Scikit-Learn/blob/main/sk5_sklearn_knn_learning.ipynb\" target=\"_parent\"><img src=\"https://colab.research.google.com/assets/colab-badge.svg\" alt=\"Open In Colab\"/></a>"
      ]
    },
    {
      "cell_type": "code",
      "execution_count": 1,
      "metadata": {
        "id": "Lk4e7WspQCwV"
      },
      "outputs": [],
      "source": [
        "#https://www.tutorialspoint.com/scikit_learn/scikit_learn_knn_learning.htm\n",
        "\n",
        "# Base Library\n",
        "import numpy as np\n",
        "import matplotlib.pyplot as plt\n",
        "import pandas as pd\n",
        "import seaborn as sns\n",
        "\n",
        "# Algorithm and model\n",
        "from sklearn.neighbors import NearestNeighbors, KNeighborsClassifier, KNeighborsRegressor, RadiusNeighborsClassifier, RadiusNeighborsRegressor\n",
        "\n",
        "# DataSets\n",
        "from sklearn.datasets import load_iris, make_regression\n",
        "\n",
        "# Preprocessing and TranTestSplit\n",
        "from sklearn.preprocessing import StandardScaler\n",
        "from sklearn.model_selection import train_test_split\n",
        "\n",
        "# Accuracy check\n",
        "from sklearn import metrics"
      ]
    },
    {
      "cell_type": "code",
      "source": [
        "iris = load_iris()\n",
        "iris.keys()"
      ],
      "metadata": {
        "colab": {
          "base_uri": "https://localhost:8080/"
        },
        "id": "SVM4ZVcvRAi5",
        "outputId": "f65eb10b-d7db-4dab-c948-2f64a5a10b0b"
      },
      "execution_count": 2,
      "outputs": [
        {
          "output_type": "execute_result",
          "data": {
            "text/plain": [
              "dict_keys(['data', 'target', 'frame', 'target_names', 'DESCR', 'feature_names', 'filename', 'data_module'])"
            ]
          },
          "metadata": {},
          "execution_count": 2
        }
      ]
    },
    {
      "cell_type": "code",
      "source": [
        "X = iris.data[:, :4]\n",
        "y = iris.target\n",
        "X.shape, y.shape\n",
        "#print(X)"
      ],
      "metadata": {
        "colab": {
          "base_uri": "https://localhost:8080/"
        },
        "id": "tVO_mlK1RklO",
        "outputId": "862464bf-8ea9-48b2-dbf3-135b168d6164"
      },
      "execution_count": 4,
      "outputs": [
        {
          "output_type": "execute_result",
          "data": {
            "text/plain": [
              "((150, 4), (150,))"
            ]
          },
          "metadata": {},
          "execution_count": 4
        }
      ]
    },
    {
      "cell_type": "code",
      "source": [
        "X_train, X_test, y_train, y_test = train_test_split(X, y, test_size = 0.30, random_state = 0)\n",
        "X_train.shape, X_test.shape"
      ],
      "metadata": {
        "id": "XMjfEffJRyRd",
        "colab": {
          "base_uri": "https://localhost:8080/"
        },
        "outputId": "977d8014-b27e-4354-a178-dabc0017004e"
      },
      "execution_count": 5,
      "outputs": [
        {
          "output_type": "execute_result",
          "data": {
            "text/plain": [
              "((105, 4), (45, 4))"
            ]
          },
          "metadata": {},
          "execution_count": 5
        }
      ]
    },
    {
      "cell_type": "code",
      "source": [
        "print(\"X_Train : \\n\",X_train[:5,:],\"\\nX_test : \\n\", X_test[:5,:])"
      ],
      "metadata": {
        "colab": {
          "base_uri": "https://localhost:8080/"
        },
        "id": "_NRdLw-CnEXR",
        "outputId": "d190130a-33b3-43d5-cd84-3e086f4d5747"
      },
      "execution_count": 7,
      "outputs": [
        {
          "output_type": "stream",
          "name": "stdout",
          "text": [
            "X_Train : \n",
            " [[5.  2.  3.5 1. ]\n",
            " [6.5 3.  5.5 1.8]\n",
            " [6.7 3.3 5.7 2.5]\n",
            " [6.  2.2 5.  1.5]\n",
            " [6.7 2.5 5.8 1.8]] \n",
            "X_test : \n",
            " [[5.8 2.8 5.1 2.4]\n",
            " [6.  2.2 4.  1. ]\n",
            " [5.5 4.2 1.4 0.2]\n",
            " [7.3 2.9 6.3 1.8]\n",
            " [5.  3.4 1.5 0.2]]\n"
          ]
        }
      ]
    },
    {
      "cell_type": "markdown",
      "source": [
        "StandardScaler is a preprocessing technique in scikit-learn that is used for standardizing a dataset. Standardization is a common preprocessing step in machine learning where the features of the dataset are transformed to have zero mean and unit variance. This is done to ensure that the features are on the same scale, which can be important for some machine learning algorithms.\n",
        "\n",
        "---\n",
        "\n",
        "Purpose:\n",
        "\n",
        "The goal of StandardScaler is to transform the features of a dataset so that they have a mean of 0 and a standard deviation of 1. This is achieved by subtracting the mean and dividing by the standard deviation for each feature independently.\n",
        "\n",
        "![image.png](data:image/png;base64,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)"
      ],
      "metadata": {
        "id": "AtnMieKWoyky"
      }
    },
    {
      "cell_type": "code",
      "source": [
        "scaler = StandardScaler()\n",
        "scaler.fit(X_train)\n",
        "X_train = scaler.transform(X_train)\n",
        "X_test = scaler.transform(X_test)"
      ],
      "metadata": {
        "id": "1Hsdgsh4R41G"
      },
      "execution_count": 8,
      "outputs": []
    },
    {
      "cell_type": "code",
      "source": [
        "print(\"X_train : \\n\",X_train[:5,:],\"\\nX_test : \\n\",X_test[:5,:])"
      ],
      "metadata": {
        "colab": {
          "base_uri": "https://localhost:8080/"
        },
        "id": "JrpsWnodpu-N",
        "outputId": "8f166f8d-d4fa-439a-8847-bef9c9083b33"
      },
      "execution_count": 12,
      "outputs": [
        {
          "output_type": "stream",
          "name": "stdout",
          "text": [
            "X_train : \n",
            " [[-1.02366372 -2.37846268 -0.18295039 -0.29318114]\n",
            " [ 0.69517462 -0.10190314  0.93066067  0.7372463 ]\n",
            " [ 0.92435306  0.58106472  1.04202177  1.63887031]\n",
            " [ 0.1222285  -1.92315077  0.6522579   0.35083601]\n",
            " [ 0.92435306 -1.24018291  1.09770233  0.7372463 ]] \n",
            "X_test : \n",
            " [[-0.10694994 -0.55721505  0.70793846  1.51006688]\n",
            " [ 0.1222285  -1.92315077  0.09545238 -0.29318114]\n",
            " [-0.45071761  2.6299683  -1.35224199 -1.32360858]\n",
            " [ 1.6118884  -0.32955909  1.37610509  0.7372463 ]\n",
            " [-1.02366372  0.80872067 -1.29656144 -1.32360858]]\n"
          ]
        }
      ]
    },
    {
      "cell_type": "markdown",
      "source": [
        "KNeighborsClassifier is a supervised learning algorithm. Supervised learning involves training a model on a labeled dataset, where the input data is paired with corresponding output labels. The algorithm learns to map input features to the correct output labels during the training phase. In the case of KNeighborsClassifier, it memorizes the training data to make predictions on new, unseen data.\n",
        "\n",
        "Applications:\n",
        "\n",
        "Image recognition, text classification, medical diagnosis, recommendation systems, and many other classification tasks."
      ],
      "metadata": {
        "id": "azg9mRbIpkgC"
      }
    },
    {
      "cell_type": "code",
      "source": [
        "classifier = KNeighborsClassifier(n_neighbors=3)\n",
        "classifier.fit(X_train, y_train)\n",
        "y_pred = classifier.predict(X_test)\n",
        "score = metrics.accuracy_score(y_test,y_pred)\n",
        "score"
      ],
      "metadata": {
        "colab": {
          "base_uri": "https://localhost:8080/"
        },
        "id": "RQ9uEeC6rVHz",
        "outputId": "1f01aca6-f928-4f82-dd1e-d89a4e691e33"
      },
      "execution_count": 13,
      "outputs": [
        {
          "output_type": "execute_result",
          "data": {
            "text/plain": [
              "0.9777777777777777"
            ]
          },
          "metadata": {},
          "execution_count": 13
        }
      ]
    },
    {
      "cell_type": "code",
      "source": [
        "range_k = range(1,15)\n",
        "scores = {}\n",
        "scores_list = []"
      ],
      "metadata": {
        "id": "hqe1im9QSB54"
      },
      "execution_count": 14,
      "outputs": []
    },
    {
      "cell_type": "markdown",
      "source": [
        "- The metrics.confusion_matrix function in scikit-learn is used to compute the confusion matrix, which is a table that summarizes the performance of a classification algorithm. The confusion matrix breaks down the count of true positives, true negatives, false positives, and false negatives.\n",
        "\n",
        "- - y_test: The true labels of the testing set.\n",
        "- - y_pred: The predicted labels from the classifier.\n",
        "- The confusion matrix result is a 2x2 matrix (for binary classification) or an NxN matrix (for N-class classification) where the rows represent the actual classes and the columns represent the predicted classes. The elements of the matrix are counts of instances falling into different categories."
      ],
      "metadata": {
        "id": "cAiM5nNwvP1A"
      }
    },
    {
      "cell_type": "markdown",
      "source": [
        "#metrics.classification_report:\n",
        "The metrics.classification_report function in scikit-learn generates a text report showing the main classification metrics. It includes precision, recall, F1-score, and support for each class, as well as averages.\n",
        "\n",
        "- Precision: The ratio of true positives to the sum of true positives and false positives. It measures the accuracy of positive predictions.\n",
        "- Recall (Sensitivity): The ratio of true positives to the sum of true positives and false negatives. It measures the ability of the classifier to capture positive instances.\n",
        "- F1-score: The harmonic mean of precision and recall. It is a balance between precision and recall.\n",
        "- Support: The number of actual occurrences of each class in the specified dataset.\n",
        "\n",
        "## Additional Metrics:\n",
        "- Accuracy: The proportion of correctly classified instances among the total instances. It is not class-specific and represents an overall measure of the model's correctness.\n",
        "\n",
        "- Macro Avg (Macro-Averaging): The unweighted average of precision, recall, and F1-score across all classes. It treats all classes equally.\n",
        "\n",
        "- Weighted Avg (Weighted-Averaging): The average of precision, recall, and F1-score, weighted by the number of instances in each class. It considers class imbalance."
      ],
      "metadata": {
        "id": "V6X8S4WMvj5Y"
      }
    },
    {
      "cell_type": "code",
      "source": [
        "for k in range_k:\n",
        "  classifier = KNeighborsClassifier(n_neighbors=k)\n",
        "  classifier.fit(X_train, y_train)\n",
        "  y_pred = classifier.predict(X_test)\n",
        "  scores[k] = metrics.accuracy_score(y_test,y_pred)\n",
        "  scores_list.append(metrics.accuracy_score(y_test,y_pred))\n",
        "  result = metrics.confusion_matrix(y_test, y_pred)\n",
        "  print(\"Confusion Matrix:\")\n",
        "  print(result)\n",
        "  result1 = metrics.classification_report(y_test, y_pred)\n",
        "  print(\"Classification Report:\",)\n",
        "  print (result1)"
      ],
      "metadata": {
        "colab": {
          "base_uri": "https://localhost:8080/"
        },
        "id": "HbEdZkg8Sa3g",
        "outputId": "d25fb17f-27fd-485f-c4d1-561431e156e6"
      },
      "execution_count": 15,
      "outputs": [
        {
          "output_type": "stream",
          "name": "stdout",
          "text": [
            "Confusion Matrix:\n",
            "[[16  0  0]\n",
            " [ 0 16  2]\n",
            " [ 0  1 10]]\n",
            "Classification Report:\n",
            "              precision    recall  f1-score   support\n",
            "\n",
            "           0       1.00      1.00      1.00        16\n",
            "           1       0.94      0.89      0.91        18\n",
            "           2       0.83      0.91      0.87        11\n",
            "\n",
            "    accuracy                           0.93        45\n",
            "   macro avg       0.92      0.93      0.93        45\n",
            "weighted avg       0.94      0.93      0.93        45\n",
            "\n",
            "Confusion Matrix:\n",
            "[[16  0  0]\n",
            " [ 0 17  1]\n",
            " [ 0  1 10]]\n",
            "Classification Report:\n",
            "              precision    recall  f1-score   support\n",
            "\n",
            "           0       1.00      1.00      1.00        16\n",
            "           1       0.94      0.94      0.94        18\n",
            "           2       0.91      0.91      0.91        11\n",
            "\n",
            "    accuracy                           0.96        45\n",
            "   macro avg       0.95      0.95      0.95        45\n",
            "weighted avg       0.96      0.96      0.96        45\n",
            "\n",
            "Confusion Matrix:\n",
            "[[16  0  0]\n",
            " [ 0 17  1]\n",
            " [ 0  0 11]]\n",
            "Classification Report:\n",
            "              precision    recall  f1-score   support\n",
            "\n",
            "           0       1.00      1.00      1.00        16\n",
            "           1       1.00      0.94      0.97        18\n",
            "           2       0.92      1.00      0.96        11\n",
            "\n",
            "    accuracy                           0.98        45\n",
            "   macro avg       0.97      0.98      0.98        45\n",
            "weighted avg       0.98      0.98      0.98        45\n",
            "\n",
            "Confusion Matrix:\n",
            "[[16  0  0]\n",
            " [ 0 17  1]\n",
            " [ 0  0 11]]\n",
            "Classification Report:\n",
            "              precision    recall  f1-score   support\n",
            "\n",
            "           0       1.00      1.00      1.00        16\n",
            "           1       1.00      0.94      0.97        18\n",
            "           2       0.92      1.00      0.96        11\n",
            "\n",
            "    accuracy                           0.98        45\n",
            "   macro avg       0.97      0.98      0.98        45\n",
            "weighted avg       0.98      0.98      0.98        45\n",
            "\n",
            "Confusion Matrix:\n",
            "[[16  0  0]\n",
            " [ 0 17  1]\n",
            " [ 0  0 11]]\n",
            "Classification Report:\n",
            "              precision    recall  f1-score   support\n",
            "\n",
            "           0       1.00      1.00      1.00        16\n",
            "           1       1.00      0.94      0.97        18\n",
            "           2       0.92      1.00      0.96        11\n",
            "\n",
            "    accuracy                           0.98        45\n",
            "   macro avg       0.97      0.98      0.98        45\n",
            "weighted avg       0.98      0.98      0.98        45\n",
            "\n",
            "Confusion Matrix:\n",
            "[[16  0  0]\n",
            " [ 0 17  1]\n",
            " [ 0  0 11]]\n",
            "Classification Report:\n",
            "              precision    recall  f1-score   support\n",
            "\n",
            "           0       1.00      1.00      1.00        16\n",
            "           1       1.00      0.94      0.97        18\n",
            "           2       0.92      1.00      0.96        11\n",
            "\n",
            "    accuracy                           0.98        45\n",
            "   macro avg       0.97      0.98      0.98        45\n",
            "weighted avg       0.98      0.98      0.98        45\n",
            "\n",
            "Confusion Matrix:\n",
            "[[16  0  0]\n",
            " [ 0 17  1]\n",
            " [ 0  0 11]]\n",
            "Classification Report:\n",
            "              precision    recall  f1-score   support\n",
            "\n",
            "           0       1.00      1.00      1.00        16\n",
            "           1       1.00      0.94      0.97        18\n",
            "           2       0.92      1.00      0.96        11\n",
            "\n",
            "    accuracy                           0.98        45\n",
            "   macro avg       0.97      0.98      0.98        45\n",
            "weighted avg       0.98      0.98      0.98        45\n",
            "\n",
            "Confusion Matrix:\n",
            "[[16  0  0]\n",
            " [ 0 17  1]\n",
            " [ 0  0 11]]\n",
            "Classification Report:\n",
            "              precision    recall  f1-score   support\n",
            "\n",
            "           0       1.00      1.00      1.00        16\n",
            "           1       1.00      0.94      0.97        18\n",
            "           2       0.92      1.00      0.96        11\n",
            "\n",
            "    accuracy                           0.98        45\n",
            "   macro avg       0.97      0.98      0.98        45\n",
            "weighted avg       0.98      0.98      0.98        45\n",
            "\n",
            "Confusion Matrix:\n",
            "[[16  0  0]\n",
            " [ 0 17  1]\n",
            " [ 0  0 11]]\n",
            "Classification Report:\n",
            "              precision    recall  f1-score   support\n",
            "\n",
            "           0       1.00      1.00      1.00        16\n",
            "           1       1.00      0.94      0.97        18\n",
            "           2       0.92      1.00      0.96        11\n",
            "\n",
            "    accuracy                           0.98        45\n",
            "   macro avg       0.97      0.98      0.98        45\n",
            "weighted avg       0.98      0.98      0.98        45\n",
            "\n",
            "Confusion Matrix:\n",
            "[[16  0  0]\n",
            " [ 0 17  1]\n",
            " [ 0  0 11]]\n",
            "Classification Report:\n",
            "              precision    recall  f1-score   support\n",
            "\n",
            "           0       1.00      1.00      1.00        16\n",
            "           1       1.00      0.94      0.97        18\n",
            "           2       0.92      1.00      0.96        11\n",
            "\n",
            "    accuracy                           0.98        45\n",
            "   macro avg       0.97      0.98      0.98        45\n",
            "weighted avg       0.98      0.98      0.98        45\n",
            "\n",
            "Confusion Matrix:\n",
            "[[16  0  0]\n",
            " [ 0 17  1]\n",
            " [ 0  0 11]]\n",
            "Classification Report:\n",
            "              precision    recall  f1-score   support\n",
            "\n",
            "           0       1.00      1.00      1.00        16\n",
            "           1       1.00      0.94      0.97        18\n",
            "           2       0.92      1.00      0.96        11\n",
            "\n",
            "    accuracy                           0.98        45\n",
            "   macro avg       0.97      0.98      0.98        45\n",
            "weighted avg       0.98      0.98      0.98        45\n",
            "\n",
            "Confusion Matrix:\n",
            "[[16  0  0]\n",
            " [ 0 17  1]\n",
            " [ 0  0 11]]\n",
            "Classification Report:\n",
            "              precision    recall  f1-score   support\n",
            "\n",
            "           0       1.00      1.00      1.00        16\n",
            "           1       1.00      0.94      0.97        18\n",
            "           2       0.92      1.00      0.96        11\n",
            "\n",
            "    accuracy                           0.98        45\n",
            "   macro avg       0.97      0.98      0.98        45\n",
            "weighted avg       0.98      0.98      0.98        45\n",
            "\n",
            "Confusion Matrix:\n",
            "[[16  0  0]\n",
            " [ 0 17  1]\n",
            " [ 0  0 11]]\n",
            "Classification Report:\n",
            "              precision    recall  f1-score   support\n",
            "\n",
            "           0       1.00      1.00      1.00        16\n",
            "           1       1.00      0.94      0.97        18\n",
            "           2       0.92      1.00      0.96        11\n",
            "\n",
            "    accuracy                           0.98        45\n",
            "   macro avg       0.97      0.98      0.98        45\n",
            "weighted avg       0.98      0.98      0.98        45\n",
            "\n",
            "Confusion Matrix:\n",
            "[[16  0  0]\n",
            " [ 0 17  1]\n",
            " [ 0  0 11]]\n",
            "Classification Report:\n",
            "              precision    recall  f1-score   support\n",
            "\n",
            "           0       1.00      1.00      1.00        16\n",
            "           1       1.00      0.94      0.97        18\n",
            "           2       0.92      1.00      0.96        11\n",
            "\n",
            "    accuracy                           0.98        45\n",
            "   macro avg       0.97      0.98      0.98        45\n",
            "weighted avg       0.98      0.98      0.98        45\n",
            "\n"
          ]
        }
      ]
    },
    {
      "cell_type": "code",
      "source": [
        "scores"
      ],
      "metadata": {
        "colab": {
          "base_uri": "https://localhost:8080/"
        },
        "id": "PLPX9uh5SlZM",
        "outputId": "c798068b-ada5-486b-c410-89d0776e744c"
      },
      "execution_count": 16,
      "outputs": [
        {
          "output_type": "execute_result",
          "data": {
            "text/plain": [
              "{1: 0.9333333333333333,\n",
              " 2: 0.9555555555555556,\n",
              " 3: 0.9777777777777777,\n",
              " 4: 0.9777777777777777,\n",
              " 5: 0.9777777777777777,\n",
              " 6: 0.9777777777777777,\n",
              " 7: 0.9777777777777777,\n",
              " 8: 0.9777777777777777,\n",
              " 9: 0.9777777777777777,\n",
              " 10: 0.9777777777777777,\n",
              " 11: 0.9777777777777777,\n",
              " 12: 0.9777777777777777,\n",
              " 13: 0.9777777777777777,\n",
              " 14: 0.9777777777777777}"
            ]
          },
          "metadata": {},
          "execution_count": 16
        }
      ]
    },
    {
      "cell_type": "code",
      "source": [
        "scores_list"
      ],
      "metadata": {
        "colab": {
          "base_uri": "https://localhost:8080/"
        },
        "id": "-IZ-IQNMSnMF",
        "outputId": "95128750-0619-4bed-b1b1-a5e0138abcc6"
      },
      "execution_count": 17,
      "outputs": [
        {
          "output_type": "execute_result",
          "data": {
            "text/plain": [
              "[0.9333333333333333,\n",
              " 0.9555555555555556,\n",
              " 0.9777777777777777,\n",
              " 0.9777777777777777,\n",
              " 0.9777777777777777,\n",
              " 0.9777777777777777,\n",
              " 0.9777777777777777,\n",
              " 0.9777777777777777,\n",
              " 0.9777777777777777,\n",
              " 0.9777777777777777,\n",
              " 0.9777777777777777,\n",
              " 0.9777777777777777,\n",
              " 0.9777777777777777,\n",
              " 0.9777777777777777]"
            ]
          },
          "metadata": {},
          "execution_count": 17
        }
      ]
    },
    {
      "cell_type": "code",
      "source": [
        "plt.plot(range_k,scores_list)\n",
        "plt.xlabel(\"Value of K\")\n",
        "plt.ylabel(\"Accuracy\")"
      ],
      "metadata": {
        "colab": {
          "base_uri": "https://localhost:8080/",
          "height": 472
        },
        "id": "4a8IH0gMSxGs",
        "outputId": "4d9eb4c3-10f7-44c1-f565-7c8d039b5a72"
      },
      "execution_count": 18,
      "outputs": [
        {
          "output_type": "execute_result",
          "data": {
            "text/plain": [
              "Text(0, 0.5, 'Accuracy')"
            ]
          },
          "metadata": {},
          "execution_count": 18
        },
        {
          "output_type": "display_data",
          "data": {
            "text/plain": [
              "<Figure size 640x480 with 1 Axes>"
            ],
            "image/png": "[encoded data removed]"
          },
          "metadata": {}
        }
      ]
    },
    {
      "cell_type": "markdown",
      "source": [
        "- RadiusNeighborsClassifier is a supervised learning algorithm. In supervised learning, the algorithm is trained on a labeled dataset, where each data point is associated with a known class label. The algorithm learns to make predictions on new, unseen data based on the patterns it has learned during training.\n",
        "\n",
        "- Parameter: The key parameter in RadiusNeighborsClassifier is the radius itself (radius parameter). It determines the maximum distance to consider when looking for neighbors.\n",
        "\n",
        "- Data Type : RadiusNeighborsClassifier can be applied to both numerical and categorical data. Like KNeighborsClassifier, it operates on the distances between data points, making it suitable for various types of data.\n",
        "\n",
        "- Applications: Image recognition, text classification, and other classification tasks where the decision boundary may not be well-defined or linear.\n",
        "\n",
        "## Difference:\n",
        "\n",
        "KNeighborsClassifier considers a fixed number of neighbors (defined by n_neighbors), while RadiusNeighborsClassifier considers all neighbors within a specified radius.\n"
      ],
      "metadata": {
        "id": "v8ken6o4wiDJ"
      }
    },
    {
      "cell_type": "code",
      "source": [
        "radius = range(1,15)\n",
        "scores = {}\n",
        "scores_list = []\n",
        "for r in radius:\n",
        "  classifier = RadiusNeighborsClassifier(radius = r)\n",
        "  classifier.fit(X_train, y_train)\n",
        "  y_pred = classifier.predict(X_test)\n",
        "  scores[r] = metrics.accuracy_score(y_test,y_pred)\n",
        "  scores_list.append(metrics.accuracy_score(y_test,y_pred))"
      ],
      "metadata": {
        "id": "XQ8IIvQYTTK9"
      },
      "execution_count": 19,
      "outputs": []
    },
    {
      "cell_type": "code",
      "source": [
        "scores"
      ],
      "metadata": {
        "colab": {
          "base_uri": "https://localhost:8080/"
        },
        "id": "NG4nyyoTYYYP",
        "outputId": "127f5dba-e35f-4b5f-a1c3-da6d4d1db623"
      },
      "execution_count": 20,
      "outputs": [
        {
          "output_type": "execute_result",
          "data": {
            "text/plain": [
              "{1: 0.9777777777777777,\n",
              " 2: 0.8,\n",
              " 3: 0.6888888888888889,\n",
              " 4: 0.6222222222222222,\n",
              " 5: 0.35555555555555557,\n",
              " 6: 0.24444444444444444,\n",
              " 7: 0.24444444444444444,\n",
              " 8: 0.24444444444444444,\n",
              " 9: 0.24444444444444444,\n",
              " 10: 0.24444444444444444,\n",
              " 11: 0.24444444444444444,\n",
              " 12: 0.24444444444444444,\n",
              " 13: 0.24444444444444444,\n",
              " 14: 0.24444444444444444}"
            ]
          },
          "metadata": {},
          "execution_count": 20
        }
      ]
    },
    {
      "cell_type": "code",
      "source": [
        "plt.plot(radius,scores_list)\n",
        "plt.xlabel(\"Value of radius\")\n",
        "plt.ylabel(\"Accuracy\")"
      ],
      "metadata": {
        "colab": {
          "base_uri": "https://localhost:8080/",
          "height": 466
        },
        "id": "ohkc8YEaYo6O",
        "outputId": "93de9bc0-7e4e-4acd-d242-ebfe268ef828"
      },
      "execution_count": 21,
      "outputs": [
        {
          "output_type": "execute_result",
          "data": {
            "text/plain": [
              "Text(0, 0.5, 'Accuracy')"
            ]
          },
          "metadata": {},
          "execution_count": 21
        },
        {
          "output_type": "display_data",
          "data": {
            "text/plain": [
              "<Figure size 640x480 with 1 Axes>"
            ],
            "image/png": "[encoded data removed]"
          },
          "metadata": {}
        }
      ]
    },
    {
      "cell_type": "markdown",
      "source": [
        "# Let Start for Regression"
      ],
      "metadata": {
        "id": "3HOcabdExBOf"
      }
    },
    {
      "cell_type": "code",
      "source": [
        "X, y = make_regression(n_features = 4, random_state = 0)\n",
        "X.shape, y.shape"
      ],
      "metadata": {
        "colab": {
          "base_uri": "https://localhost:8080/"
        },
        "id": "yCpiZDT5Y34S",
        "outputId": "5642fdcc-75ac-4747-c8c2-2c52b202cca9"
      },
      "execution_count": 22,
      "outputs": [
        {
          "output_type": "execute_result",
          "data": {
            "text/plain": [
              "((100, 4), (100,))"
            ]
          },
          "metadata": {},
          "execution_count": 22
        }
      ]
    },
    {
      "cell_type": "code",
      "source": [
        "X_train, X_test, y_train, y_test = train_test_split(X, y, test_size = 0.3, random_state = 1)\n",
        "X_train.shape, X_test.shape"
      ],
      "metadata": {
        "colab": {
          "base_uri": "https://localhost:8080/"
        },
        "id": "HMohQj_qZkpr",
        "outputId": "340383cd-fce6-470b-eaf0-6cf22baee83c"
      },
      "execution_count": 23,
      "outputs": [
        {
          "output_type": "execute_result",
          "data": {
            "text/plain": [
              "((70, 4), (30, 4))"
            ]
          },
          "metadata": {},
          "execution_count": 23
        }
      ]
    },
    {
      "cell_type": "markdown",
      "source": [
        "KNeighborsRegressor is a supervised learning algorithm. In supervised learning, the algorithm is trained on a labeled dataset, where each data point is associated with a known continuous target value. The algorithm learns to make predictions on new, unseen data based on the patterns it has learned during training.\n",
        "\n",
        "Principle:\n",
        "\n",
        "- The algorithm predicts the target value for a data point by considering the average (or another aggregation function) of the target values of its k-nearest neighbors in the feature space.\n",
        "Parameter:\n",
        "\n",
        "- The key parameter in KNeighborsRegressor is the number of neighbors (n_neighbors). It determines how many neighboring data points influence the prediction.\n",
        "\n",
        "\n",
        "Data Type:\n",
        "\n",
        "- KNeighborsRegressor can be applied to numerical data, as it operates on the distances between data points. It is suitable for regression tasks where the target variable is continuous.\n",
        "\n",
        "Applications:\n",
        "\n",
        "- Predicting house prices, estimating stock prices, and other regression tasks where the relationships between input features and target variables are not assumed to be linear."
      ],
      "metadata": {
        "id": "FHvQyrwuxhIE"
      }
    },
    {
      "cell_type": "code",
      "source": [
        "range_k = range(1,15)\n",
        "scores = {}\n",
        "scores_list = []\n",
        "for k in range_k:\n",
        "  knnr = KNeighborsRegressor(n_neighbors=k)\n",
        "  knnr.fit(X_train, y_train)\n",
        "  y_pred = knnr.predict(X_test)\n",
        "  scores[k] = metrics.mean_squared_error(y_test,y_pred)\n",
        "  scores_list.append(metrics.mean_squared_error(y_test,y_pred))"
      ],
      "metadata": {
        "id": "8HM9oy_vZn24"
      },
      "execution_count": 24,
      "outputs": []
    },
    {
      "cell_type": "code",
      "source": [
        "scores"
      ],
      "metadata": {
        "colab": {
          "base_uri": "https://localhost:8080/"
        },
        "id": "RwEvq38Ue0LV",
        "outputId": "27821de5-a1f5-4629-bc55-abf0aae7e9eb"
      },
      "execution_count": 25,
      "outputs": [
        {
          "output_type": "execute_result",
          "data": {
            "text/plain": [
              "{1: 2687.498050005207,\n",
              " 2: 1973.3558055180174,\n",
              " 3: 2407.638886190778,\n",
              " 4: 2504.9745675221525,\n",
              " 5: 2911.2919795883445,\n",
              " 6: 2905.1082372797614,\n",
              " 7: 3146.558881476807,\n",
              " 8: 3036.140890489178,\n",
              " 9: 3199.909450240992,\n",
              " 10: 3236.208808580049,\n",
              " 11: 3168.142394024933,\n",
              " 12: 3219.31035887661,\n",
              " 13: 3410.138916137484,\n",
              " 14: 3551.926767737263}"
            ]
          },
          "metadata": {},
          "execution_count": 25
        }
      ]
    },
    {
      "cell_type": "code",
      "source": [
        "plt.plot(range_k,scores_list)\n",
        "plt.xlabel(\"Value of K\")\n",
        "plt.ylabel(\"MSE\")"
      ],
      "metadata": {
        "colab": {
          "base_uri": "https://localhost:8080/",
          "height": 466
        },
        "id": "DSyZ60bXe164",
        "outputId": "591045ca-71c0-45eb-d424-b39d5eacbe4e"
      },
      "execution_count": 26,
      "outputs": [
        {
          "output_type": "execute_result",
          "data": {
            "text/plain": [
              "Text(0, 0.5, 'MSE')"
            ]
          },
          "metadata": {},
          "execution_count": 26
        },
        {
          "output_type": "display_data",
          "data": {
            "text/plain": [
              "<Figure size 640x480 with 1 Axes>"
            ],
            "image/png": "[encoded data removed]"
          },
          "metadata": {}
        }
      ]
    },
    {
      "cell_type": "markdown",
      "source": [
        "RadiusNeighborsRegressor is a supervised learning algorithm. In supervised learning, the algorithm is trained on a labeled dataset, where each data point is associated with a known continuous target value. The algorithm learns to make predictions on new, unseen data based on the patterns it has learned during training.\n",
        "\n",
        "---\n",
        "\n",
        "Principle:\n",
        "\n",
        "The algorithm predicts the target value for a data point by considering the average (or another aggregation function) of the target values of its neighbors within a specified radius in the feature space.\n",
        "Parameter:\n",
        "\n",
        "The key parameter in RadiusNeighborsRegressor is the radius (radius). It determines the maximum distance to consider when looking for neighbors.\n",
        "\n",
        "---\n",
        "\n",
        "Data Type:\n",
        "\n",
        "RadiusNeighborsRegressor can be applied to numerical data, as it operates on the distances between data points. It is suitable for regression tasks where the target variable is continuous.\n",
        "Data Requirements:\n",
        "\n",
        "Feature scaling is recommended for RadiusNeighborsRegressor to ensure that all features contribute equally to the distance calculation.\n",
        "---\n",
        "\n",
        "Use Cases:\n",
        "Applications:\n",
        "\n",
        "Predicting house prices, estimating stock prices, and other regression tasks where the relationships between input features and target variables are not assumed to be linear."
      ],
      "metadata": {
        "id": "pQt90iH61hJg"
      }
    },
    {
      "cell_type": "code",
      "source": [
        "radius = range(1,15)\n",
        "scores = {}\n",
        "scores_list = []\n",
        "for r in radius:\n",
        "  regr = RadiusNeighborsRegressor(radius = r)\n",
        "  regr.fit(X_train, y_train)\n",
        "  y_pred = regr.predict(X_test)\n",
        "  try:\n",
        "    scores[r] = metrics.mean_squared_error(y_test,y_pred)\n",
        "    scores_list.append(metrics.mean_squared_error(y_test,y_pred))\n",
        "  except Exception as e:\n",
        "    print(e)"
      ],
      "metadata": {
        "id": "9DQgknKOfFyI",
        "colab": {
          "base_uri": "https://localhost:8080/"
        },
        "outputId": "e1ad5d70-f1e6-42e8-cdab-f217eacac98b"
      },
      "execution_count": 27,
      "outputs": [
        {
          "output_type": "stream",
          "name": "stdout",
          "text": [
            "Input contains NaN.\n"
          ]
        },
        {
          "output_type": "stream",
          "name": "stderr",
          "text": [
            "/usr/local/lib/python3.10/dist-packages/sklearn/neighbors/_regression.py:494: UserWarning: One or more samples have no neighbors within specified radius; predicting NaN.\n",
            "  warnings.warn(empty_warning_msg)\n"
          ]
        }
      ]
    },
    {
      "cell_type": "code",
      "source": [
        "scores"
      ],
      "metadata": {
        "colab": {
          "base_uri": "https://localhost:8080/"
        },
        "id": "sE8dsIv8Tf6u",
        "outputId": "6b2fe601-b1a1-4ac7-cf37-c05574aacff2"
      },
      "execution_count": 28,
      "outputs": [
        {
          "output_type": "execute_result",
          "data": {
            "text/plain": [
              "{2: 3815.284868926949,\n",
              " 3: 7751.601466402394,\n",
              " 4: 12665.17433009503,\n",
              " 5: 14970.695177443233,\n",
              " 6: 15436.662432452138,\n",
              " 7: 15436.662432452138,\n",
              " 8: 15436.662432452138,\n",
              " 9: 15436.662432452138,\n",
              " 10: 15436.662432452138,\n",
              " 11: 15436.662432452138,\n",
              " 12: 15436.662432452138,\n",
              " 13: 15436.662432452138,\n",
              " 14: 15436.662432452138}"
            ]
          },
          "metadata": {},
          "execution_count": 28
        }
      ]
    },
    {
      "cell_type": "code",
      "source": [
        "plt.plot(range(2,15),scores_list)\n",
        "plt.xlabel(\"Radius\")\n",
        "plt.ylabel(\"MSE\")"
      ],
      "metadata": {
        "colab": {
          "base_uri": "https://localhost:8080/",
          "height": 471
        },
        "id": "GwOoC4OhT9Dh",
        "outputId": "1d150285-a323-4e86-d370-666c7606fe67"
      },
      "execution_count": 29,
      "outputs": [
        {
          "output_type": "execute_result",
          "data": {
            "text/plain": [
              "Text(0, 0.5, 'MSE')"
            ]
          },
          "metadata": {},
          "execution_count": 29
        },
        {
          "output_type": "display_data",
          "data": {
            "text/plain": [
              "<Figure size 640x480 with 1 Axes>"
            ],
            "image/png": "[encoded data removed]"
          },
          "metadata": {}
        }
      ]
    },
    {
      "cell_type": "code",
      "source": [
        "#df -> (algo, k, accu)\n",
        "X = iris.data[:, :4]\n",
        "y = iris.target\n",
        "X_train, X_test, y_train, y_test = train_test_split(X, y, test_size = 0.30, random_state = 0)\n",
        "X_train.shape, X_test.shape"
      ],
      "metadata": {
        "id": "uFtBX61OUH9k",
        "colab": {
          "base_uri": "https://localhost:8080/"
        },
        "outputId": "6247a547-ec0c-46e8-f770-cb6ff40fb110"
      },
      "execution_count": 30,
      "outputs": [
        {
          "output_type": "execute_result",
          "data": {
            "text/plain": [
              "((105, 4), (45, 4))"
            ]
          },
          "metadata": {},
          "execution_count": 30
        }
      ]
    },
    {
      "cell_type": "code",
      "source": [
        "def get_knn():\n",
        "  for k in range_k:\n",
        "    classifier = KNeighborsClassifier(n_neighbors=k)\n",
        "    classifier.fit(X_train, y_train)\n",
        "    y_pred = classifier.predict(X_test)\n",
        "    acc = metrics.accuracy_score(y_test,y_pred)\n",
        "    scores = {'algo': 'KNN', 'k': k, 'acc': acc}\n",
        "    print(scores)\n",
        "    scores_list.append(scores)"
      ],
      "metadata": {
        "id": "LVkQHUeAqOuo"
      },
      "execution_count": 31,
      "outputs": []
    },
    {
      "cell_type": "code",
      "source": [
        "def get_rnn():\n",
        "  for r in range_k:\n",
        "    classifier = RadiusNeighborsClassifier(radius = r)\n",
        "    classifier.fit(X_train, y_train)\n",
        "    y_pred = classifier.predict(X_test)\n",
        "    acc = metrics.accuracy_score(y_test,y_pred)\n",
        "    scores = {'algo': 'RNN', 'k': r, 'acc': acc}\n",
        "    print(scores)\n",
        "    scores_list.append(scores)"
      ],
      "metadata": {
        "id": "UQJ3D-Htws2i"
      },
      "execution_count": 32,
      "outputs": []
    },
    {
      "cell_type": "code",
      "source": [
        "range_k = range(1,15)\n",
        "scores_list = []\n",
        "get_knn()\n",
        "get_rnn()\n",
        "len(scores_list)"
      ],
      "metadata": {
        "colab": {
          "base_uri": "https://localhost:8080/"
        },
        "id": "k5Gdi0xvq2kE",
        "outputId": "f78bfed4-5ec6-4563-acf6-5fb6084e0e9d"
      },
      "execution_count": 33,
      "outputs": [
        {
          "output_type": "stream",
          "name": "stdout",
          "text": [
            "{'algo': 'KNN', 'k': 1, 'acc': 0.9777777777777777}\n",
            "{'algo': 'KNN', 'k': 2, 'acc': 0.9777777777777777}\n",
            "{'algo': 'KNN', 'k': 3, 'acc': 0.9777777777777777}\n",
            "{'algo': 'KNN', 'k': 4, 'acc': 0.9777777777777777}\n",
            "{'algo': 'KNN', 'k': 5, 'acc': 0.9777777777777777}\n",
            "{'algo': 'KNN', 'k': 6, 'acc': 0.9777777777777777}\n",
            "{'algo': 'KNN', 'k': 7, 'acc': 0.9777777777777777}\n",
            "{'algo': 'KNN', 'k': 8, 'acc': 0.9777777777777777}\n",
            "{'algo': 'KNN', 'k': 9, 'acc': 0.9777777777777777}\n",
            "{'algo': 'KNN', 'k': 10, 'acc': 0.9777777777777777}\n",
            "{'algo': 'KNN', 'k': 11, 'acc': 0.9777777777777777}\n",
            "{'algo': 'KNN', 'k': 12, 'acc': 0.9777777777777777}\n",
            "{'algo': 'KNN', 'k': 13, 'acc': 0.9777777777777777}\n",
            "{'algo': 'KNN', 'k': 14, 'acc': 0.9777777777777777}\n",
            "{'algo': 'RNN', 'k': 1, 'acc': 0.9555555555555556}\n",
            "{'algo': 'RNN', 'k': 2, 'acc': 0.8666666666666667}\n",
            "{'algo': 'RNN', 'k': 3, 'acc': 0.6666666666666666}\n",
            "{'algo': 'RNN', 'k': 4, 'acc': 0.6}\n",
            "{'algo': 'RNN', 'k': 5, 'acc': 0.6}\n",
            "{'algo': 'RNN', 'k': 6, 'acc': 0.37777777777777777}\n",
            "{'algo': 'RNN', 'k': 7, 'acc': 0.24444444444444444}\n",
            "{'algo': 'RNN', 'k': 8, 'acc': 0.24444444444444444}\n",
            "{'algo': 'RNN', 'k': 9, 'acc': 0.24444444444444444}\n",
            "{'algo': 'RNN', 'k': 10, 'acc': 0.24444444444444444}\n",
            "{'algo': 'RNN', 'k': 11, 'acc': 0.24444444444444444}\n",
            "{'algo': 'RNN', 'k': 12, 'acc': 0.24444444444444444}\n",
            "{'algo': 'RNN', 'k': 13, 'acc': 0.24444444444444444}\n",
            "{'algo': 'RNN', 'k': 14, 'acc': 0.24444444444444444}\n"
          ]
        },
        {
          "output_type": "execute_result",
          "data": {
            "text/plain": [
              "28"
            ]
          },
          "metadata": {},
          "execution_count": 33
        }
      ]
    },
    {
      "cell_type": "code",
      "source": [
        "df = pd.DataFrame(scores_list)\n",
        "df.shape"
      ],
      "metadata": {
        "colab": {
          "base_uri": "https://localhost:8080/"
        },
        "id": "r-GWTkpSrBn1",
        "outputId": "84875e23-ec86-4246-e7a0-8e42e3ca7b66"
      },
      "execution_count": 34,
      "outputs": [
        {
          "output_type": "execute_result",
          "data": {
            "text/plain": [
              "(28, 3)"
            ]
          },
          "metadata": {},
          "execution_count": 34
        }
      ]
    },
    {
      "cell_type": "code",
      "source": [
        "df.head()"
      ],
      "metadata": {
        "colab": {
          "base_uri": "https://localhost:8080/",
          "height": 206
        },
        "id": "6r-Q9zO8rIy5",
        "outputId": "acdace36-ff70-4967-ff6b-9f054b0d4a79"
      },
      "execution_count": 35,
      "outputs": [
        {
          "output_type": "execute_result",
          "data": {
            "text/plain": [
              "  algo  k       acc\n",
              "0  KNN  1  0.977778\n",
              "1  KNN  2  0.977778\n",
              "2  KNN  3  0.977778\n",
              "3  KNN  4  0.977778\n",
              "4  KNN  5  0.977778"
            ],
            "text/html": [
              "\n",
              "  <div id=\"df-97c2460c-08c2-4eca-8be6-d30c50d1cf92\" class=\"colab-df-container\">\n",
              "    <div>\n",
              "<style scoped>\n",
              "    .dataframe tbody tr th:only-of-type {\n",
              "        vertical-align: middle;\n",
              "    }\n",
              "\n",
              "    .dataframe tbody tr th {\n",
              "        vertical-align: top;\n",
              "    }\n",
              "\n",
              "    .dataframe thead th {\n",
              "        text-align: right;\n",
              "    }\n",
              "</style>\n",
              "<table border=\"1\" class=\"dataframe\">\n",
              "  <thead>\n",
              "    <tr style=\"text-align: right;\">\n",
              "      <th></th>\n",
              "      <th>algo</th>\n",
              "      <th>k</th>\n",
              "      <th>acc</th>\n",
              "    </tr>\n",
              "  </thead>\n",
              "  <tbody>\n",
              "    <tr>\n",
              "      <th>0</th>\n",
              "      <td>KNN</td>\n",
              "      <td>1</td>\n",
              "      <td>0.977778</td>\n",
              "    </tr>\n",
              "    <tr>\n",
              "      <th>1</th>\n",
              "      <td>KNN</td>\n",
              "      <td>2</td>\n",
              "      <td>0.977778</td>\n",
              "    </tr>\n",
              "    <tr>\n",
              "      <th>2</th>\n",
              "      <td>KNN</td>\n",
              "      <td>3</td>\n",
              "      <td>0.977778</td>\n",
              "    </tr>\n",
              "    <tr>\n",
              "      <th>3</th>\n",
              "      <td>KNN</td>\n",
              "      <td>4</td>\n",
              "      <td>0.977778</td>\n",
              "    </tr>\n",
              "    <tr>\n",
              "      <th>4</th>\n",
              "      <td>KNN</td>\n",
              "      <td>5</td>\n",
              "      <td>0.977778</td>\n",
              "    </tr>\n",
              "  </tbody>\n",
              "</table>\n",
              "</div>\n",
              "    <div class=\"colab-df-buttons\">\n",
              "\n",
              "  <div class=\"colab-df-container\">\n",
              "    <button class=\"colab-df-convert\" onclick=\"convertToInteractive('df-97c2460c-08c2-4eca-8be6-d30c50d1cf92')\"\n",
              "            title=\"Convert this dataframe to an interactive table.\"\n",
              "            style=\"display:none;\">\n",
              "\n",
              "  <svg xmlns=\"http://www.w3.org/2000/svg\" height=\"24px\" viewBox=\"0 -960 960 960\">\n",
              "    <path d=\"M120-120v-720h720v720H120Zm60-500h600v-160H180v160Zm220 220h160v-160H400v160Zm0 220h160v-160H400v160ZM180-400h160v-160H180v160Zm440 0h160v-160H620v160ZM180-180h160v-160H180v160Zm440 0h160v-160H620v160Z\"/>\n",
              "  </svg>\n",
              "    </button>\n",
              "\n",
              "  <style>\n",
              "    .colab-df-container {\n",
              "      display:flex;\n",
              "      gap: 12px;\n",
              "    }\n",
              "\n",
              "    .colab-df-convert {\n",
              "      background-color: #E8F0FE;\n",
              "      border: none;\n",
              "      border-radius: 50%;\n",
              "      cursor: pointer;\n",
              "      display: none;\n",
              "      fill: #1967D2;\n",
              "      height: 32px;\n",
              "      padding: 0 0 0 0;\n",
              "      width: 32px;\n",
              "    }\n",
              "\n",
              "    .colab-df-convert:hover {\n",
              "      background-color: #E2EBFA;\n",
              "      box-shadow: 0px 1px 2px rgba(60, 64, 67, 0.3), 0px 1px 3px 1px rgba(60, 64, 67, 0.15);\n",
              "      fill: #174EA6;\n",
              "    }\n",
              "\n",
              "    .colab-df-buttons div {\n",
              "      margin-bottom: 4px;\n",
              "    }\n",
              "\n",
              "    [theme=dark] .colab-df-convert {\n",
              "      background-color: #3B4455;\n",
              "      fill: #D2E3FC;\n",
              "    }\n",
              "\n",
              "    [theme=dark] .colab-df-convert:hover {\n",
              "      background-color: #434B5C;\n",
              "      box-shadow: 0px 1px 3px 1px rgba(0, 0, 0, 0.15);\n",
              "      filter: drop-shadow(0px 1px 2px rgba(0, 0, 0, 0.3));\n",
              "      fill: #FFFFFF;\n",
              "    }\n",
              "  </style>\n",
              "\n",
              "    <script>\n",
              "      const buttonEl =\n",
              "        document.querySelector('#df-97c2460c-08c2-4eca-8be6-d30c50d1cf92 button.colab-df-convert');\n",
              "      buttonEl.style.display =\n",
              "        google.colab.kernel.accessAllowed ? 'block' : 'none';\n",
              "\n",
              "      async function convertToInteractive(key) {\n",
              "        const element = document.querySelector('#df-97c2460c-08c2-4eca-8be6-d30c50d1cf92');\n",
              "        const dataTable =\n",
              "          await google.colab.kernel.invokeFunction('convertToInteractive',\n",
              "                                                    [key], {});\n",
              "        if (!dataTable) return;\n",
              "\n",
              "        const docLinkHtml = 'Like what you see? Visit the ' +\n",
              "          '<a target=\"_blank\" href=https://colab.research.google.com/notebooks/data_table.ipynb>data table notebook</a>'\n",
              "          + ' to learn more about interactive tables.';\n",
              "        element.innerHTML = '';\n",
              "        dataTable['output_type'] = 'display_data';\n",
              "        await google.colab.output.renderOutput(dataTable, element);\n",
              "        const docLink = document.createElement('div');\n",
              "        docLink.innerHTML = docLinkHtml;\n",
              "        element.appendChild(docLink);\n",
              "      }\n",
              "    </script>\n",
              "  </div>\n",
              "\n",
              "\n",
              "<div id=\"df-9798b544-510b-44e3-b132-11336b25c818\">\n",
              "  <button class=\"colab-df-quickchart\" onclick=\"quickchart('df-9798b544-510b-44e3-b132-11336b25c818')\"\n",
              "            title=\"Suggest charts\"\n",
              "            style=\"display:none;\">\n",
              "\n",
              "<svg xmlns=\"http://www.w3.org/2000/svg\" height=\"24px\"viewBox=\"0 0 24 24\"\n",
              "     width=\"24px\">\n",
              "    <g>\n",
              "        <path d=\"M19 3H5c-1.1 0-2 .9-2 2v14c0 1.1.9 2 2 2h14c1.1 0 2-.9 2-2V5c0-1.1-.9-2-2-2zM9 17H7v-7h2v7zm4 0h-2V7h2v10zm4 0h-2v-4h2v4z\"/>\n",
              "    </g>\n",
              "</svg>\n",
              "  </button>\n",
              "\n",
              "<style>\n",
              "  .colab-df-quickchart {\n",
              "      --bg-color: #E8F0FE;\n",
              "      --fill-color: #1967D2;\n",
              "      --hover-bg-color: #E2EBFA;\n",
              "      --hover-fill-color: #174EA6;\n",
              "      --disabled-fill-color: #AAA;\n",
              "      --disabled-bg-color: #DDD;\n",
              "  }\n",
              "\n",
              "  [theme=dark] .colab-df-quickchart {\n",
              "      --bg-color: #3B4455;\n",
              "      --fill-color: #D2E3FC;\n",
              "      --hover-bg-color: #434B5C;\n",
              "      --hover-fill-color: #FFFFFF;\n",
              "      --disabled-bg-color: #3B4455;\n",
              "      --disabled-fill-color: #666;\n",
              "  }\n",
              "\n",
              "  .colab-df-quickchart {\n",
              "    background-color: var(--bg-color);\n",
              "    border: none;\n",
              "    border-radius: 50%;\n",
              "    cursor: pointer;\n",
              "    display: none;\n",
              "    fill: var(--fill-color);\n",
              "    height: 32px;\n",
              "    padding: 0;\n",
              "    width: 32px;\n",
              "  }\n",
              "\n",
              "  .colab-df-quickchart:hover {\n",
              "    background-color: var(--hover-bg-color);\n",
              "    box-shadow: 0 1px 2px rgba(60, 64, 67, 0.3), 0 1px 3px 1px rgba(60, 64, 67, 0.15);\n",
              "    fill: var(--button-hover-fill-color);\n",
              "  }\n",
              "\n",
              "  .colab-df-quickchart-complete:disabled,\n",
              "  .colab-df-quickchart-complete:disabled:hover {\n",
              "    background-color: var(--disabled-bg-color);\n",
              "    fill: var(--disabled-fill-color);\n",
              "    box-shadow: none;\n",
              "  }\n",
              "\n",
              "  .colab-df-spinner {\n",
              "    border: 2px solid var(--fill-color);\n",
              "    border-color: transparent;\n",
              "    border-bottom-color: var(--fill-color);\n",
              "    animation:\n",
              "      spin 1s steps(1) infinite;\n",
              "  }\n",
              "\n",
              "  @keyframes spin {\n",
              "    0% {\n",
              "      border-color: transparent;\n",
              "      border-bottom-color: var(--fill-color);\n",
              "      border-left-color: var(--fill-color);\n",
              "    }\n",
              "    20% {\n",
              "      border-color: transparent;\n",
              "      border-left-color: var(--fill-color);\n",
              "      border-top-color: var(--fill-color);\n",
              "    }\n",
              "    30% {\n",
              "      border-color: transparent;\n",
              "      border-left-color: var(--fill-color);\n",
              "      border-top-color: var(--fill-color);\n",
              "      border-right-color: var(--fill-color);\n",
              "    }\n",
              "    40% {\n",
              "      border-color: transparent;\n",
              "      border-right-color: var(--fill-color);\n",
              "      border-top-color: var(--fill-color);\n",
              "    }\n",
              "    60% {\n",
              "      border-color: transparent;\n",
              "      border-right-color: var(--fill-color);\n",
              "    }\n",
              "    80% {\n",
              "      border-color: transparent;\n",
              "      border-right-color: var(--fill-color);\n",
              "      border-bottom-color: var(--fill-color);\n",
              "    }\n",
              "    90% {\n",
              "      border-color: transparent;\n",
              "      border-bottom-color: var(--fill-color);\n",
              "    }\n",
              "  }\n",
              "</style>\n",
              "\n",
              "  <script>\n",
              "    async function quickchart(key) {\n",
              "      const quickchartButtonEl =\n",
              "        document.querySelector('#' + key + ' button');\n",
              "      quickchartButtonEl.disabled = true;  // To prevent multiple clicks.\n",
              "      quickchartButtonEl.classList.add('colab-df-spinner');\n",
              "      try {\n",
              "        const charts = await google.colab.kernel.invokeFunction(\n",
              "            'suggestCharts', [key], {});\n",
              "      } catch (error) {\n",
              "        console.error('Error during call to suggestCharts:', error);\n",
              "      }\n",
              "      quickchartButtonEl.classList.remove('colab-df-spinner');\n",
              "      quickchartButtonEl.classList.add('colab-df-quickchart-complete');\n",
              "    }\n",
              "    (() => {\n",
              "      let quickchartButtonEl =\n",
              "        document.querySelector('#df-9798b544-510b-44e3-b132-11336b25c818 button');\n",
              "      quickchartButtonEl.style.display =\n",
              "        google.colab.kernel.accessAllowed ? 'block' : 'none';\n",
              "    })();\n",
              "  </script>\n",
              "</div>\n",
              "    </div>\n",
              "  </div>\n"
            ]
          },
          "metadata": {},
          "execution_count": 35
        }
      ]
    },
    {
      "cell_type": "code",
      "source": [
        "df.tail()"
      ],
      "metadata": {
        "colab": {
          "base_uri": "https://localhost:8080/",
          "height": 206
        },
        "id": "6aKaw3U5rVmX",
        "outputId": "06e6ab07-0c87-4d99-dd8c-0a91050ea8d3"
      },
      "execution_count": null,
      "outputs": [
        {
          "output_type": "execute_result",
          "data": {
            "text/plain": [
              "   algo   k       acc\n",
              "23  RNN  10  0.244444\n",
              "24  RNN  11  0.244444\n",
              "25  RNN  12  0.244444\n",
              "26  RNN  13  0.244444\n",
              "27  RNN  14  0.244444"
            ],
            "text/html": [
              "\n",
              "  <div id=\"df-1a1cd28e-55c1-433f-8f4a-77b0c06a5ce9\" class=\"colab-df-container\">\n",
              "    <div>\n",
              "<style scoped>\n",
              "    .dataframe tbody tr th:only-of-type {\n",
              "        vertical-align: middle;\n",
              "    }\n",
              "\n",
              "    .dataframe tbody tr th {\n",
              "        vertical-align: top;\n",
              "    }\n",
              "\n",
              "    .dataframe thead th {\n",
              "        text-align: right;\n",
              "    }\n",
              "</style>\n",
              "<table border=\"1\" class=\"dataframe\">\n",
              "  <thead>\n",
              "    <tr style=\"text-align: right;\">\n",
              "      <th></th>\n",
              "      <th>algo</th>\n",
              "      <th>k</th>\n",
              "      <th>acc</th>\n",
              "    </tr>\n",
              "  </thead>\n",
              "  <tbody>\n",
              "    <tr>\n",
              "      <th>23</th>\n",
              "      <td>RNN</td>\n",
              "      <td>10</td>\n",
              "      <td>0.244444</td>\n",
              "    </tr>\n",
              "    <tr>\n",
              "      <th>24</th>\n",
              "      <td>RNN</td>\n",
              "      <td>11</td>\n",
              "      <td>0.244444</td>\n",
              "    </tr>\n",
              "    <tr>\n",
              "      <th>25</th>\n",
              "      <td>RNN</td>\n",
              "      <td>12</td>\n",
              "      <td>0.244444</td>\n",
              "    </tr>\n",
              "    <tr>\n",
              "      <th>26</th>\n",
              "      <td>RNN</td>\n",
              "      <td>13</td>\n",
              "      <td>0.244444</td>\n",
              "    </tr>\n",
              "    <tr>\n",
              "      <th>27</th>\n",
              "      <td>RNN</td>\n",
              "      <td>14</td>\n",
              "      <td>0.244444</td>\n",
              "    </tr>\n",
              "  </tbody>\n",
              "</table>\n",
              "</div>\n",
              "    <div class=\"colab-df-buttons\">\n",
              "\n",
              "  <div class=\"colab-df-container\">\n",
              "    <button class=\"colab-df-convert\" onclick=\"convertToInteractive('df-1a1cd28e-55c1-433f-8f4a-77b0c06a5ce9')\"\n",
              "            title=\"Convert this dataframe to an interactive table.\"\n",
              "            style=\"display:none;\">\n",
              "\n",
              "  <svg xmlns=\"http://www.w3.org/2000/svg\" height=\"24px\" viewBox=\"0 -960 960 960\">\n",
              "    <path d=\"M120-120v-720h720v720H120Zm60-500h600v-160H180v160Zm220 220h160v-160H400v160Zm0 220h160v-160H400v160ZM180-400h160v-160H180v160Zm440 0h160v-160H620v160ZM180-180h160v-160H180v160Zm440 0h160v-160H620v160Z\"/>\n",
              "  </svg>\n",
              "    </button>\n",
              "\n",
              "  <style>\n",
              "    .colab-df-container {\n",
              "      display:flex;\n",
              "      gap: 12px;\n",
              "    }\n",
              "\n",
              "    .colab-df-convert {\n",
              "      background-color: #E8F0FE;\n",
              "      border: none;\n",
              "      border-radius: 50%;\n",
              "      cursor: pointer;\n",
              "      display: none;\n",
              "      fill: #1967D2;\n",
              "      height: 32px;\n",
              "      padding: 0 0 0 0;\n",
              "      width: 32px;\n",
              "    }\n",
              "\n",
              "    .colab-df-convert:hover {\n",
              "      background-color: #E2EBFA;\n",
              "      box-shadow: 0px 1px 2px rgba(60, 64, 67, 0.3), 0px 1px 3px 1px rgba(60, 64, 67, 0.15);\n",
              "      fill: #174EA6;\n",
              "    }\n",
              "\n",
              "    .colab-df-buttons div {\n",
              "      margin-bottom: 4px;\n",
              "    }\n",
              "\n",
              "    [theme=dark] .colab-df-convert {\n",
              "      background-color: #3B4455;\n",
              "      fill: #D2E3FC;\n",
              "    }\n",
              "\n",
              "    [theme=dark] .colab-df-convert:hover {\n",
              "      background-color: #434B5C;\n",
              "      box-shadow: 0px 1px 3px 1px rgba(0, 0, 0, 0.15);\n",
              "      filter: drop-shadow(0px 1px 2px rgba(0, 0, 0, 0.3));\n",
              "      fill: #FFFFFF;\n",
              "    }\n",
              "  </style>\n",
              "\n",
              "    <script>\n",
              "      const buttonEl =\n",
              "        document.querySelector('#df-1a1cd28e-55c1-433f-8f4a-77b0c06a5ce9 button.colab-df-convert');\n",
              "      buttonEl.style.display =\n",
              "        google.colab.kernel.accessAllowed ? 'block' : 'none';\n",
              "\n",
              "      async function convertToInteractive(key) {\n",
              "        const element = document.querySelector('#df-1a1cd28e-55c1-433f-8f4a-77b0c06a5ce9');\n",
              "        const dataTable =\n",
              "          await google.colab.kernel.invokeFunction('convertToInteractive',\n",
              "                                                    [key], {});\n",
              "        if (!dataTable) return;\n",
              "\n",
              "        const docLinkHtml = 'Like what you see? Visit the ' +\n",
              "          '<a target=\"_blank\" href=https://colab.research.google.com/notebooks/data_table.ipynb>data table notebook</a>'\n",
              "          + ' to learn more about interactive tables.';\n",
              "        element.innerHTML = '';\n",
              "        dataTable['output_type'] = 'display_data';\n",
              "        await google.colab.output.renderOutput(dataTable, element);\n",
              "        const docLink = document.createElement('div');\n",
              "        docLink.innerHTML = docLinkHtml;\n",
              "        element.appendChild(docLink);\n",
              "      }\n",
              "    </script>\n",
              "  </div>\n",
              "\n",
              "\n",
              "<div id=\"df-334b5d5a-02c5-465a-9835-1c12d0413f15\">\n",
              "  <button class=\"colab-df-quickchart\" onclick=\"quickchart('df-334b5d5a-02c5-465a-9835-1c12d0413f15')\"\n",
              "            title=\"Suggest charts\"\n",
              "            style=\"display:none;\">\n",
              "\n",
              "<svg xmlns=\"http://www.w3.org/2000/svg\" height=\"24px\"viewBox=\"0 0 24 24\"\n",
              "     width=\"24px\">\n",
              "    <g>\n",
              "        <path d=\"M19 3H5c-1.1 0-2 .9-2 2v14c0 1.1.9 2 2 2h14c1.1 0 2-.9 2-2V5c0-1.1-.9-2-2-2zM9 17H7v-7h2v7zm4 0h-2V7h2v10zm4 0h-2v-4h2v4z\"/>\n",
              "    </g>\n",
              "</svg>\n",
              "  </button>\n",
              "\n",
              "<style>\n",
              "  .colab-df-quickchart {\n",
              "      --bg-color: #E8F0FE;\n",
              "      --fill-color: #1967D2;\n",
              "      --hover-bg-color: #E2EBFA;\n",
              "      --hover-fill-color: #174EA6;\n",
              "      --disabled-fill-color: #AAA;\n",
              "      --disabled-bg-color: #DDD;\n",
              "  }\n",
              "\n",
              "  [theme=dark] .colab-df-quickchart {\n",
              "      --bg-color: #3B4455;\n",
              "      --fill-color: #D2E3FC;\n",
              "      --hover-bg-color: #434B5C;\n",
              "      --hover-fill-color: #FFFFFF;\n",
              "      --disabled-bg-color: #3B4455;\n",
              "      --disabled-fill-color: #666;\n",
              "  }\n",
              "\n",
              "  .colab-df-quickchart {\n",
              "    background-color: var(--bg-color);\n",
              "    border: none;\n",
              "    border-radius: 50%;\n",
              "    cursor: pointer;\n",
              "    display: none;\n",
              "    fill: var(--fill-color);\n",
              "    height: 32px;\n",
              "    padding: 0;\n",
              "    width: 32px;\n",
              "  }\n",
              "\n",
              "  .colab-df-quickchart:hover {\n",
              "    background-color: var(--hover-bg-color);\n",
              "    box-shadow: 0 1px 2px rgba(60, 64, 67, 0.3), 0 1px 3px 1px rgba(60, 64, 67, 0.15);\n",
              "    fill: var(--button-hover-fill-color);\n",
              "  }\n",
              "\n",
              "  .colab-df-quickchart-complete:disabled,\n",
              "  .colab-df-quickchart-complete:disabled:hover {\n",
              "    background-color: var(--disabled-bg-color);\n",
              "    fill: var(--disabled-fill-color);\n",
              "    box-shadow: none;\n",
              "  }\n",
              "\n",
              "  .colab-df-spinner {\n",
              "    border: 2px solid var(--fill-color);\n",
              "    border-color: transparent;\n",
              "    border-bottom-color: var(--fill-color);\n",
              "    animation:\n",
              "      spin 1s steps(1) infinite;\n",
              "  }\n",
              "\n",
              "  @keyframes spin {\n",
              "    0% {\n",
              "      border-color: transparent;\n",
              "      border-bottom-color: var(--fill-color);\n",
              "      border-left-color: var(--fill-color);\n",
              "    }\n",
              "    20% {\n",
              "      border-color: transparent;\n",
              "      border-left-color: var(--fill-color);\n",
              "      border-top-color: var(--fill-color);\n",
              "    }\n",
              "    30% {\n",
              "      border-color: transparent;\n",
              "      border-left-color: var(--fill-color);\n",
              "      border-top-color: var(--fill-color);\n",
              "      border-right-color: var(--fill-color);\n",
              "    }\n",
              "    40% {\n",
              "      border-color: transparent;\n",
              "      border-right-color: var(--fill-color);\n",
              "      border-top-color: var(--fill-color);\n",
              "    }\n",
              "    60% {\n",
              "      border-color: transparent;\n",
              "      border-right-color: var(--fill-color);\n",
              "    }\n",
              "    80% {\n",
              "      border-color: transparent;\n",
              "      border-right-color: var(--fill-color);\n",
              "      border-bottom-color: var(--fill-color);\n",
              "    }\n",
              "    90% {\n",
              "      border-color: transparent;\n",
              "      border-bottom-color: var(--fill-color);\n",
              "    }\n",
              "  }\n",
              "</style>\n",
              "\n",
              "  <script>\n",
              "    async function quickchart(key) {\n",
              "      const quickchartButtonEl =\n",
              "        document.querySelector('#' + key + ' button');\n",
              "      quickchartButtonEl.disabled = true;  // To prevent multiple clicks.\n",
              "      quickchartButtonEl.classList.add('colab-df-spinner');\n",
              "      try {\n",
              "        const charts = await google.colab.kernel.invokeFunction(\n",
              "            'suggestCharts', [key], {});\n",
              "      } catch (error) {\n",
              "        console.error('Error during call to suggestCharts:', error);\n",
              "      }\n",
              "      quickchartButtonEl.classList.remove('colab-df-spinner');\n",
              "      quickchartButtonEl.classList.add('colab-df-quickchart-complete');\n",
              "    }\n",
              "    (() => {\n",
              "      let quickchartButtonEl =\n",
              "        document.querySelector('#df-334b5d5a-02c5-465a-9835-1c12d0413f15 button');\n",
              "      quickchartButtonEl.style.display =\n",
              "        google.colab.kernel.accessAllowed ? 'block' : 'none';\n",
              "    })();\n",
              "  </script>\n",
              "</div>\n",
              "    </div>\n",
              "  </div>\n"
            ]
          },
          "metadata": {},
          "execution_count": 48
        }
      ]
    },
    {
      "cell_type": "code",
      "source": [
        "sns.relplot(data=df, x='k', y='acc', hue='algo')"
      ],
      "metadata": {
        "colab": {
          "base_uri": "https://localhost:8080/",
          "height": 523
        },
        "id": "q6pjVRCIxiIQ",
        "outputId": "11c1f502-e70b-48ea-a5e7-44235bee8aea"
      },
      "execution_count": 36,
      "outputs": [
        {
          "output_type": "execute_result",
          "data": {
            "text/plain": [
              "<seaborn.axisgrid.FacetGrid at 0x7a6132a81840>"
            ]
          },
          "metadata": {},
          "execution_count": 36
        },
        {
          "output_type": "display_data",
          "data": {
            "text/plain": [
              "<Figure size 580.375x500 with 1 Axes>"
            ],
            "image/png": "[encoded data removed]"
          },
          "metadata": {}
        }
      ]
    },
    {
      "cell_type": "code",
      "source": [
        "X, y = make_regression(n_features = 4, random_state = 0)\n",
        "X.shape, y.shape"
      ],
      "metadata": {
        "colab": {
          "base_uri": "https://localhost:8080/"
        },
        "id": "WpCELTwKyDHg",
        "outputId": "f3cc26b0-58ac-4319-a1d9-07ff6283f9b6"
      },
      "execution_count": 37,
      "outputs": [
        {
          "output_type": "execute_result",
          "data": {
            "text/plain": [
              "((100, 4), (100,))"
            ]
          },
          "metadata": {},
          "execution_count": 37
        }
      ]
    },
    {
      "cell_type": "code",
      "source": [
        "X_train, X_test, y_train, y_test = train_test_split(X, y, test_size = 0.3, random_state = 1)\n",
        "X_train.shape, X_test.shape"
      ],
      "metadata": {
        "colab": {
          "base_uri": "https://localhost:8080/"
        },
        "id": "jHNF--ny3QSm",
        "outputId": "0474616e-939c-43d4-8473-b28519c8b5f7"
      },
      "execution_count": 38,
      "outputs": [
        {
          "output_type": "execute_result",
          "data": {
            "text/plain": [
              "((70, 4), (30, 4))"
            ]
          },
          "metadata": {},
          "execution_count": 38
        }
      ]
    },
    {
      "cell_type": "code",
      "source": [
        "def get_knn_reg():\n",
        "  for k in range_k:\n",
        "    knnr = KNeighborsRegressor(n_neighbors=k)\n",
        "    knnr.fit(X_train, y_train)\n",
        "    y_pred = knnr.predict(X_test)\n",
        "    MSE = metrics.mean_squared_error(y_test,y_pred)\n",
        "    scores = {'algo': 'KNN', 'k': k, 'MSE': MSE}\n",
        "    print(scores)\n",
        "    scores_list.append(scores)"
      ],
      "metadata": {
        "id": "ZpxHNdtd3Ul4"
      },
      "execution_count": 39,
      "outputs": []
    },
    {
      "cell_type": "code",
      "source": [
        "def get_rnn_reg():\n",
        "  for r in range_k:\n",
        "    regr = RadiusNeighborsRegressor(radius = r)\n",
        "    regr.fit(X_train, y_train)\n",
        "    y_pred = regr.predict(X_test)\n",
        "    try:\n",
        "      MSE = metrics.mean_squared_error(y_test,y_pred)\n",
        "      scores = {'algo': 'RNN', 'k': r, 'MSE': MSE}\n",
        "      print(scores)\n",
        "      scores_list.append(scores)\n",
        "    except Exception as e:\n",
        "      print(e)"
      ],
      "metadata": {
        "id": "c75zCAry4HAX"
      },
      "execution_count": 40,
      "outputs": []
    },
    {
      "cell_type": "code",
      "source": [
        "range_k = range(1,15)\n",
        "scores_list = []\n",
        "get_knn_reg()\n",
        "get_rnn_reg()\n",
        "len(scores_list)"
      ],
      "metadata": {
        "colab": {
          "base_uri": "https://localhost:8080/"
        },
        "id": "tIsk6MSt35ee",
        "outputId": "89994314-e498-4c70-8436-4989cf9d911d"
      },
      "execution_count": 41,
      "outputs": [
        {
          "output_type": "stream",
          "name": "stdout",
          "text": [
            "{'algo': 'KNN', 'k': 1, 'MSE': 2687.498050005207}\n",
            "{'algo': 'KNN', 'k': 2, 'MSE': 1973.3558055180174}\n",
            "{'algo': 'KNN', 'k': 3, 'MSE': 2407.638886190778}\n",
            "{'algo': 'KNN', 'k': 4, 'MSE': 2504.9745675221525}\n",
            "{'algo': 'KNN', 'k': 5, 'MSE': 2911.2919795883445}\n",
            "{'algo': 'KNN', 'k': 6, 'MSE': 2905.1082372797614}\n",
            "{'algo': 'KNN', 'k': 7, 'MSE': 3146.558881476807}\n",
            "{'algo': 'KNN', 'k': 8, 'MSE': 3036.140890489178}\n",
            "{'algo': 'KNN', 'k': 9, 'MSE': 3199.909450240992}\n",
            "{'algo': 'KNN', 'k': 10, 'MSE': 3236.208808580049}\n",
            "{'algo': 'KNN', 'k': 11, 'MSE': 3168.142394024933}\n",
            "{'algo': 'KNN', 'k': 12, 'MSE': 3219.31035887661}\n",
            "{'algo': 'KNN', 'k': 13, 'MSE': 3410.138916137484}\n",
            "{'algo': 'KNN', 'k': 14, 'MSE': 3551.926767737263}\n",
            "Input contains NaN.\n",
            "{'algo': 'RNN', 'k': 2, 'MSE': 3815.284868926949}\n",
            "{'algo': 'RNN', 'k': 3, 'MSE': 7751.601466402394}\n",
            "{'algo': 'RNN', 'k': 4, 'MSE': 12665.17433009503}\n",
            "{'algo': 'RNN', 'k': 5, 'MSE': 14970.695177443233}\n",
            "{'algo': 'RNN', 'k': 6, 'MSE': 15436.662432452138}\n",
            "{'algo': 'RNN', 'k': 7, 'MSE': 15436.662432452138}\n",
            "{'algo': 'RNN', 'k': 8, 'MSE': 15436.662432452138}\n",
            "{'algo': 'RNN', 'k': 9, 'MSE': 15436.662432452138}\n",
            "{'algo': 'RNN', 'k': 10, 'MSE': 15436.662432452138}\n",
            "{'algo': 'RNN', 'k': 11, 'MSE': 15436.662432452138}\n",
            "{'algo': 'RNN', 'k': 12, 'MSE': 15436.662432452138}\n",
            "{'algo': 'RNN', 'k': 13, 'MSE': 15436.662432452138}\n",
            "{'algo': 'RNN', 'k': 14, 'MSE': 15436.662432452138}\n"
          ]
        },
        {
          "output_type": "stream",
          "name": "stderr",
          "text": [
            "/usr/local/lib/python3.10/dist-packages/sklearn/neighbors/_regression.py:494: UserWarning: One or more samples have no neighbors within specified radius; predicting NaN.\n",
            "  warnings.warn(empty_warning_msg)\n"
          ]
        },
        {
          "output_type": "execute_result",
          "data": {
            "text/plain": [
              "27"
            ]
          },
          "metadata": {},
          "execution_count": 41
        }
      ]
    },
    {
      "cell_type": "code",
      "source": [
        "df_reg = pd.DataFrame(scores_list)\n",
        "df_reg.shape"
      ],
      "metadata": {
        "colab": {
          "base_uri": "https://localhost:8080/"
        },
        "id": "p6EayFEA4BD-",
        "outputId": "d3aefc7e-febb-4c30-ccb0-d718d83d118d"
      },
      "execution_count": 42,
      "outputs": [
        {
          "output_type": "execute_result",
          "data": {
            "text/plain": [
              "(27, 3)"
            ]
          },
          "metadata": {},
          "execution_count": 42
        }
      ]
    },
    {
      "cell_type": "code",
      "source": [
        "sns.relplot(data=df_reg, x='k', y='MSE', hue='algo')"
      ],
      "metadata": {
        "colab": {
          "base_uri": "https://localhost:8080/",
          "height": 524
        },
        "id": "xbp9dh585AOH",
        "outputId": "1866638a-8e8b-449e-d35e-5ff67f92b227"
      },
      "execution_count": 43,
      "outputs": [
        {
          "output_type": "execute_result",
          "data": {
            "text/plain": [
              "<seaborn.axisgrid.FacetGrid at 0x7a61329c34c0>"
            ]
          },
          "metadata": {},
          "execution_count": 43
        },
        {
          "output_type": "display_data",
          "data": {
            "text/plain": [
              "<Figure size 580.375x500 with 1 Axes>"
            ],
            "image/png": "[encoded data removed]"
          },
          "metadata": {}
        }
      ]
    },
    {
      "cell_type": "code",
      "source": [],
      "metadata": {
        "id": "yCx1GFCL5HKj"
      },
      "execution_count": null,
      "outputs": []
    }
  ]
}