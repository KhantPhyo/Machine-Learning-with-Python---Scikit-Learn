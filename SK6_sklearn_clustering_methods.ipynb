{
  "nbformat": 4,
  "nbformat_minor": 0,
  "metadata": {
    "colab": {
      "provenance": [],
      "include_colab_link": true
    },
    "kernelspec": {
      "name": "python3",
      "display_name": "Python 3"
    },
    "language_info": {
      "name": "python"
    }
  },
  "cells": [
    {
      "cell_type": "markdown",
      "metadata": {
        "id": "view-in-github",
        "colab_type": "text"
      },
      "source": [
        "<a href=\"https://colab.research.google.com/github/KhantPhyo/Machine-Learning-with-Python---Scikit-Learn/blob/main/SK6_sklearn_clustering_methods.ipynb\" target=\"_parent\"><img src=\"https://colab.research.google.com/assets/colab-badge.svg\" alt=\"Open In Colab\"/></a>"
      ]
    },
    {
      "cell_type": "code",
      "execution_count": 1,
      "metadata": {
        "id": "Q5IBKy6MfAry"
      },
      "outputs": [],
      "source": [
        "#https://www.tutorialspoint.com/scikit_learn/scikit_learn_clustering_methods.htm\n",
        "import numpy as np\n",
        "import matplotlib.pyplot as plt\n",
        "import seaborn as sns\n",
        "from scipy.stats import mode\n",
        "\n",
        "from sklearn.cluster import KMeans\n",
        "\n",
        "#from sklearn.datasets import make_regression\n",
        "from sklearn.datasets import load_digits, make_classification\n",
        "\n",
        "from sklearn.model_selection import train_test_split\n",
        "from sklearn import metrics\n",
        "from sklearn.metrics import accuracy_score"
      ]
    },
    {
      "cell_type": "code",
      "source": [
        "digits = load_digits()\n",
        "#X, y = make_classification(n_features = 4, random_state = 0)\n",
        "digits.images[0] #flattened data for single images of the dataset"
      ],
      "metadata": {
        "colab": {
          "base_uri": "https://localhost:8080/"
        },
        "id": "O_eh5hKofc_p",
        "outputId": "5fa3c950-fdc8-44ce-af71-e9c3e52d2aac"
      },
      "execution_count": 12,
      "outputs": [
        {
          "output_type": "execute_result",
          "data": {
            "text/plain": [
              "array([[ 0.,  0.,  5., 13.,  9.,  1.,  0.,  0.],\n",
              "       [ 0.,  0., 13., 15., 10., 15.,  5.,  0.],\n",
              "       [ 0.,  3., 15.,  2.,  0., 11.,  8.,  0.],\n",
              "       [ 0.,  4., 12.,  0.,  0.,  8.,  8.,  0.],\n",
              "       [ 0.,  5.,  8.,  0.,  0.,  9.,  8.,  0.],\n",
              "       [ 0.,  4., 11.,  0.,  1., 12.,  7.,  0.],\n",
              "       [ 0.,  2., 14.,  5., 10., 12.,  0.,  0.],\n",
              "       [ 0.,  0.,  6., 13., 10.,  0.,  0.,  0.]])"
            ]
          },
          "metadata": {},
          "execution_count": 12
        }
      ]
    },
    {
      "cell_type": "markdown",
      "source": [
        "we can visually check the contents of this result using the matplotlib library.\n",
        "\n",
        "- Import pyplot module which is under matplotlib as plt.\n",
        "- The imshow() function is used to display data as an image; i.e. on a 2D regular raster.\n",
        "- cmap = gray_r displays a grayscale image.\n",
        "- interpolation= ‘nearest’ displays an image without trying to interpolate between pixels if the display resolution is not the same as the image resolution.\n",
        "- The title() function is used to display the title on the graph."
      ],
      "metadata": {
        "id": "ClPNpmZAE-qd"
      }
    },
    {
      "cell_type": "code",
      "source": [
        "plt.imshow(digits.images[0], cmap=plt.cm.gray_r,\n",
        "interpolation='nearest')\n",
        "plt.title('Visualizing an array')"
      ],
      "metadata": {
        "colab": {
          "base_uri": "https://localhost:8080/",
          "height": 469
        },
        "id": "zYmJJ0grE-Bc",
        "outputId": "c1506bf1-7fc8-4c63-9e50-5cbf01ec72d1"
      },
      "execution_count": 13,
      "outputs": [
        {
          "output_type": "execute_result",
          "data": {
            "text/plain": [
              "Text(0.5, 1.0, 'Visualizing an array')"
            ]
          },
          "metadata": {},
          "execution_count": 13
        },
        {
          "output_type": "display_data",
          "data": {
            "text/plain": [
              "<Figure size 640x480 with 1 Axes>"
            ],
            "image/png": "[encoded data removed]"
          },
          "metadata": {}
        }
      ]
    },
    {
      "cell_type": "code",
      "source": [
        "#10 Cluster\n",
        "k_means = KMeans(n_clusters=10, n_init=10, random_state=0)\n",
        "clusters = k_means.fit_predict(digits.data) #run KMeans clustering on digits.data for 1797 records and 64 features\n",
        "k_means.cluster_centers_.shape"
      ],
      "metadata": {
        "colab": {
          "base_uri": "https://localhost:8080/"
        },
        "id": "Ao1uiKMCGcj_",
        "outputId": "46a2ed54-40d4-4607-9123-734ccce94df2"
      },
      "execution_count": 17,
      "outputs": [
        {
          "output_type": "execute_result",
          "data": {
            "text/plain": [
              "(10, 64)"
            ]
          },
          "metadata": {},
          "execution_count": 17
        }
      ]
    },
    {
      "cell_type": "markdown",
      "source": [
        "# Visualization of the 10 digits\n",
        "Using the NumPy and matplotlib libraries, we can display each digit from 0 to 9 which are in the form of an array as images.\n",
        "\n",
        "- The figure() function in the pyplot module of the matplotlib library is used to create a new figure with a specified size of (15,4).\n",
        "- subplots_adjust(hspace=0.8) is used to adjust the space between the rows of the subplots.\n",
        "- Combine two lists using the zip() function for easier handling inside the plotting loop.\n",
        "- enumerate() method adds a counter to an iterable and returns it. The returned object is a enumerate object.\n",
        "- subplot() function is used to add a subplot to a current figure at the specified grid position."
      ],
      "metadata": {
        "id": "ETyKicNnG1IS"
      }
    },
    {
      "cell_type": "code",
      "source": [
        "fig, ax = plt.subplots(2, 5, figsize = (8,3)) #Create a figure and a set of subplots( 2 rows and 5 columns)\n",
        "centers = k_means.cluster_centers_.reshape(10,8,8)\n",
        "#flattened image can't be viewed, re-transform/reshape/inverse transform it to original form to view matrix shaped image\n",
        "#reshape 10 rows of clusters (k_means.cluster_centers_ = 10,64) and 64 to 8 * 8 matrix\n",
        "for axi, center in zip(ax.flat, centers): #ax.flat:flattening the image & plotting relevant centers\n",
        "    axi.set(xticks = [], yticks = [])\n",
        "    axi.imshow(center, interpolation='nearest',cmap = plt.cm.binary) #imshow(matplotlib method) to render the image in notebook"
      ],
      "metadata": {
        "colab": {
          "base_uri": "https://localhost:8080/",
          "height": 268
        },
        "id": "ou753cB8GPi_",
        "outputId": "e2a231cc-266b-4a2d-ca50-49ae938c5c3e"
      },
      "execution_count": 18,
      "outputs": [
        {
          "output_type": "display_data",
          "data": {
            "text/plain": [
              "<Figure size 800x300 with 10 Axes>"
            ],
            "image/png": "[encoded data removed]"
          },
          "metadata": {}
        }
      ]
    },
    {
      "cell_type": "markdown",
      "source": [
        "There are 10 clusters\n",
        "\n",
        "- Cluster 1 is a cluster of datapoints that look like digit 4\n",
        "- Cluster 4 is a cluster of datapoints that look like digit 9\n",
        "- Cluster 10 is a cluster of datapoints that look like digit 6\n",
        "- Cluster 8 looks little distorted and seems like Digit 8 like datapoints may have been misclustered"
      ],
      "metadata": {
        "id": "HAYsflBJHTw0"
      }
    },
    {
      "cell_type": "code",
      "source": [
        "labels = np.zeros_like(clusters) # blank labels\n",
        "print(f\"The labels are : {labels}\")\n",
        "print(f\"\\nThe size of labels is : {labels.shape}\")\n",
        "print(\"The mask values are : \")\n",
        "for i in range(10):\n",
        "    mask = (clusters == i)\n",
        "    #if a specific digit belongs to/equivalent a specific cluster then its True else False\n",
        "    print(mask)\n",
        "    labels[mask] = mode(digits.target[mask])[0]"
      ],
      "metadata": {
        "id": "aOXnTuipVBdV",
        "colab": {
          "base_uri": "https://localhost:8080/"
        },
        "outputId": "f7035980-bf7d-4520-d315-6cdb840d7a2f"
      },
      "execution_count": 19,
      "outputs": [
        {
          "output_type": "stream",
          "name": "stdout",
          "text": [
            "The labels are : [0 0 0 ... 0 0 0]\n",
            "\n",
            "The size of labels is : (1797,)\n",
            "The mask values are : \n",
            "[False False False ... False False False]\n",
            "[False False False ... False False False]\n",
            "[False False False ... False False False]\n",
            "[False False False ... False  True  True]\n",
            "[False False False ... False False False]\n",
            "[ True False False ... False False False]\n",
            "[False False False ... False False False]\n",
            "[False  True  True ...  True False False]\n",
            "[False False False ... False False False]\n",
            "[False False False ... False False False]\n"
          ]
        }
      ]
    },
    {
      "cell_type": "code",
      "source": [
        "#if a specific digit belongs to/equivalent a specific cluster then acuracy is 1 else 0\n",
        "accuracy = \"{:.2f}\".format(accuracy_score(digits.target, labels)*100)\n",
        "print(f\"Accuracy: {accuracy}%\")"
      ],
      "metadata": {
        "colab": {
          "base_uri": "https://localhost:8080/"
        },
        "id": "80NjDujSHi4O",
        "outputId": "53907b55-c044-40d6-e442-0ea9028d5a2f"
      },
      "execution_count": 20,
      "outputs": [
        {
          "output_type": "stream",
          "name": "stdout",
          "text": [
            "Accuracy: 79.35%\n"
          ]
        }
      ]
    },
    {
      "cell_type": "markdown",
      "source": [
        "#Easy Way"
      ],
      "metadata": {
        "id": "VQUcbeupJp5g"
      }
    },
    {
      "cell_type": "code",
      "source": [
        "import numpy as np\n",
        "from sklearn.cluster import KMeans\n",
        "from sklearn.datasets import load_digits\n",
        "from sklearn.model_selection import train_test_split\n",
        "from sklearn.metrics import accuracy_score\n",
        "\n",
        "# Load the digits dataset\n",
        "digits = load_digits()\n",
        "X = digits.data\n",
        "y = digits.target\n",
        "\n",
        "# Split the data into training and test sets\n",
        "X_train, X_test, y_train, y_test = train_test_split(X, y, test_size=0.2, random_state=42)\n",
        "\n",
        "# Initialize and fit the KMeans model\n",
        "kmeans = KMeans(n_clusters=10, n_init=10, random_state=42)\n",
        "kmeans.fit(X_train)\n",
        "\n",
        "# Use KMeans to predict cluster labels for test data\n",
        "cluster_labels = kmeans.predict(X_test)\n",
        "\n",
        "# Map cluster labels to the most common true digit label within each cluster\n",
        "cluster_to_digit = {}\n",
        "for cluster in range(10):\n",
        "    mask = (cluster_labels == cluster)\n",
        "    most_common_digit = np.bincount(y_test[mask]).argmax()\n",
        "    cluster_to_digit[cluster] = most_common_digit\n",
        "predicted_digits = np.vectorize(cluster_to_digit.get)(cluster_labels)\n",
        "\n",
        "# Calculate the accuracy of the predictions\n",
        "accuracy = accuracy_score(y_test, predicted_digits)\n",
        "\n",
        "# Print the accuracy\n",
        "print(f\"Accuracy: {accuracy:.2f}\")\n"
      ],
      "metadata": {
        "colab": {
          "base_uri": "https://localhost:8080/"
        },
        "id": "aG60UTXzHnQu",
        "outputId": "c88ebb80-8a0b-496a-f005-1e1f074b1a1d"
      },
      "execution_count": 22,
      "outputs": [
        {
          "output_type": "stream",
          "name": "stdout",
          "text": [
            "Accuracy: 0.79\n"
          ]
        }
      ]
    },
    {
      "cell_type": "markdown",
      "source": [
        "cluster_to_digit = {}\n",
        "- Here, we initialize an empty dictionary called cluster_to_digit. This dictionary will be used to map cluster labels to the most common true digit label within each cluster.\n",
        "\n",
        "for cluster in range(10):\n",
        "- This is a loop that iterates over 10 clusters. In the context of the digits dataset, KMeans clustering is used to partition the data into 10 clusters (since there are 10 digits, 0-9).\n",
        "\n",
        "mask = (cluster_labels == cluster)\n",
        "- Inside the loop, we create a boolean mask using the cluster_labels. The cluster_labels contain the cluster assignments for each data point in the test set. This mask will be True for data points that belong to the current cluster and False for others.\n",
        "\n",
        "most_common_digit = np.bincount(y_test[mask]).argmax()\n",
        "- We calculate the most common true digit label within the current cluster. np.bincount(y_test[mask]) counts the occurrences of each digit label (y_test) that belong to the current cluster, and argmax() returns the label with the highest count. So, most_common_digit will hold the digit label that appears most frequently in the current cluster.\n",
        "\n",
        "cluster_to_digit[cluster] = most_common_digit\n",
        "- We store the mapping between the cluster label (cluster) and the most common true digit label (most_common_digit) in the cluster_to_digit dictionary. This dictionary will help us convert cluster labels to digit labels later.\n",
        "\n",
        "predicted_digits = np.vectorize(cluster_to_digit.get)(cluster_labels)\n",
        "- Finally, we use np.vectorize() to apply the mapping function cluster_to_digit.get to each element of cluster_labels. This step converts the cluster labels predicted by KMeans into their corresponding digit labels based on the most common true digit label within each cluster."
      ],
      "metadata": {
        "id": "rZ8IWzIXK1J8"
      }
    },
    {
      "cell_type": "code",
      "source": [],
      "metadata": {
        "id": "1SgC-2RnKurF"
      },
      "execution_count": null,
      "outputs": []
    }
  ]
}